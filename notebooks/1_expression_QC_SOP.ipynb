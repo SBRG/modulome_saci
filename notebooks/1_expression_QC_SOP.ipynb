{
 "cells": [
  {
   "cell_type": "markdown",
   "metadata": {
    "toc": true
   },
   "source": [
    "<h1>Table of Contents<span class=\"tocSkip\"></span></h1>\n",
    "<div class=\"toc\"><ul class=\"toc-item\"><li><span><a href=\"#Setup\" data-toc-modified-id=\"Setup-1\"><span class=\"toc-item-num\">1&nbsp;&nbsp;</span>Setup</a></span><ul class=\"toc-item\"><li><span><a href=\"#QC-Thresholds\" data-toc-modified-id=\"QC-Thresholds-1.1\"><span class=\"toc-item-num\">1.1&nbsp;&nbsp;</span>QC Thresholds</a></span></li><li><span><a href=\"#Inputs\" data-toc-modified-id=\"Inputs-1.2\"><span class=\"toc-item-num\">1.2&nbsp;&nbsp;</span>Inputs</a></span></li><li><span><a href=\"#Load-expression-data\" data-toc-modified-id=\"Load-expression-data-1.3\"><span class=\"toc-item-num\">1.3&nbsp;&nbsp;</span>Load expression data</a></span></li><li><span><a href=\"#Load-QC-data\" data-toc-modified-id=\"Load-QC-data-1.4\"><span class=\"toc-item-num\">1.4&nbsp;&nbsp;</span>Load QC data</a></span></li><li><span><a href=\"#Load-metadata\" data-toc-modified-id=\"Load-metadata-1.5\"><span class=\"toc-item-num\">1.5&nbsp;&nbsp;</span>Load metadata</a></span></li><li><span><a href=\"#Remove-extra-sample-rows\" data-toc-modified-id=\"Remove-extra-sample-rows-1.6\"><span class=\"toc-item-num\">1.6&nbsp;&nbsp;</span>Remove extra sample rows</a></span></li></ul></li><li><span><a href=\"#Check-statistics\" data-toc-modified-id=\"Check-statistics-2\"><span class=\"toc-item-num\">2&nbsp;&nbsp;</span>Check statistics</a></span><ul class=\"toc-item\"><li><span><a href=\"#FastQC-stats\" data-toc-modified-id=\"FastQC-stats-2.1\"><span class=\"toc-item-num\">2.1&nbsp;&nbsp;</span>FastQC stats</a></span></li><li><span><a href=\"#Percent-of-reads-aligned-to-genome\" data-toc-modified-id=\"Percent-of-reads-aligned-to-genome-2.2\"><span class=\"toc-item-num\">2.2&nbsp;&nbsp;</span>Percent of reads aligned to genome</a></span></li><li><span><a href=\"#Number-of-aligned-reads\" data-toc-modified-id=\"Number-of-aligned-reads-2.3\"><span class=\"toc-item-num\">2.3&nbsp;&nbsp;</span>Number of aligned reads</a></span></li></ul></li><li><span><a href=\"#Examine-Global-Correlations\" data-toc-modified-id=\"Examine-Global-Correlations-3\"><span class=\"toc-item-num\">3&nbsp;&nbsp;</span>Examine Global Correlations</a></span><ul class=\"toc-item\"><li><span><a href=\"#Hierarchical-Clustering\" data-toc-modified-id=\"Hierarchical-Clustering-3.1\"><span class=\"toc-item-num\">3.1&nbsp;&nbsp;</span>Hierarchical Clustering</a></span></li></ul></li><li><span><a href=\"#Remove-failed-samples\" data-toc-modified-id=\"Remove-failed-samples-4\"><span class=\"toc-item-num\">4&nbsp;&nbsp;</span>Remove failed samples</a></span></li><li><span><a href=\"#Metadata-Curation\" data-toc-modified-id=\"Metadata-Curation-5\"><span class=\"toc-item-num\">5&nbsp;&nbsp;</span>Metadata Curation</a></span><ul class=\"toc-item\"><li><span><a href=\"#BioProject-counts-of-passing-metadata\" data-toc-modified-id=\"BioProject-counts-of-passing-metadata-5.1\"><span class=\"toc-item-num\">5.1&nbsp;&nbsp;</span>BioProject counts of passing metadata</a></span></li><li><span><a href=\"#BioProject-counts-of-all-metadata\" data-toc-modified-id=\"BioProject-counts-of-all-metadata-5.2\"><span class=\"toc-item-num\">5.2&nbsp;&nbsp;</span>BioProject counts of all metadata</a></span></li></ul></li><li><span><a href=\"#Correlations-between-replicates\" data-toc-modified-id=\"Correlations-between-replicates-6\"><span class=\"toc-item-num\">6&nbsp;&nbsp;</span>Correlations between replicates</a></span><ul class=\"toc-item\"><li><span><a href=\"#Compute-Pearson-R-Score\" data-toc-modified-id=\"Compute-Pearson-R-Score-6.1\"><span class=\"toc-item-num\">6.1&nbsp;&nbsp;</span>Compute Pearson R Score</a></span></li><li><span><a href=\"#Drop-Samples-with-no-replicates\" data-toc-modified-id=\"Drop-Samples-with-no-replicates-6.2\"><span class=\"toc-item-num\">6.2&nbsp;&nbsp;</span>Drop Samples with no replicates</a></span></li></ul></li><li><span><a href=\"#Remove-failed-samples\" data-toc-modified-id=\"Remove-failed-samples-7\"><span class=\"toc-item-num\">7&nbsp;&nbsp;</span>Remove failed samples</a></span></li><li><span><a href=\"#Save-final-datasets\" data-toc-modified-id=\"Save-final-datasets-8\"><span class=\"toc-item-num\">8&nbsp;&nbsp;</span>Save final datasets</a></span></li></ul></div>"
   ]
  },
  {
   "cell_type": "markdown",
   "metadata": {},
   "source": [
    "<font size=\"4\">This is a template notebook for performing preliminary quality control on your organism's expression data.</font>"
   ]
  },
  {
   "cell_type": "code",
   "execution_count": 1,
   "metadata": {
    "ExecuteTime": {
     "end_time": "2021-06-15T23:22:55.696097Z",
     "start_time": "2021-06-15T23:22:53.801509Z"
    }
   },
   "outputs": [
    {
     "name": "stderr",
     "output_type": "stream",
     "text": [
      "\n",
      "Bad key \"text.kerning_factor\" on line 4 in\n",
      "/Users/siddharth/opt/miniconda3/envs/pymodulon/lib/python3.7/site-packages/matplotlib/mpl-data/stylelib/_classic_test_patch.mplstyle.\n",
      "You probably need to get an updated matplotlibrc file from\n",
      "https://github.com/matplotlib/matplotlib/blob/v3.1.3/matplotlibrc.template\n",
      "or from the matplotlib source distribution\n"
     ]
    }
   ],
   "source": [
    "import pandas as pd\n",
    "import os\n",
    "from os import path\n",
    "import matplotlib.pyplot as plt\n",
    "import seaborn as sns\n",
    "import numpy as np"
   ]
  },
  {
   "cell_type": "code",
   "execution_count": 2,
   "metadata": {
    "ExecuteTime": {
     "end_time": "2021-06-15T23:22:57.366392Z",
     "start_time": "2021-06-15T23:22:57.363286Z"
    }
   },
   "outputs": [],
   "source": [
    "sns.set_style('ticks')"
   ]
  },
  {
   "cell_type": "markdown",
   "metadata": {},
   "source": [
    "# Setup"
   ]
  },
  {
   "cell_type": "markdown",
   "metadata": {},
   "source": [
    "## QC Thresholds"
   ]
  },
  {
   "cell_type": "code",
   "execution_count": 3,
   "metadata": {
    "ExecuteTime": {
     "end_time": "2021-06-15T23:23:00.022746Z",
     "start_time": "2021-06-15T23:23:00.019708Z"
    }
   },
   "outputs": [],
   "source": [
    "min_pct_aligned = 40 # Minimum percent of reads aligned to genome\n",
    "min_mrna_reads = 5e5 # Minimum number of reads mapped to mRNA"
   ]
  },
  {
   "cell_type": "markdown",
   "metadata": {},
   "source": [
    "## Inputs"
   ]
  },
  {
   "cell_type": "markdown",
   "metadata": {},
   "source": [
    "<font size=\"4\">Show files in the data directory</font>"
   ]
  },
  {
   "cell_type": "code",
   "execution_count": 4,
   "metadata": {
    "ExecuteTime": {
     "end_time": "2021-06-15T23:23:01.438710Z",
     "start_time": "2021-06-15T23:23:01.425266Z"
    }
   },
   "outputs": [
    {
     "data": {
      "text/plain": [
       "['GO_annotations.csv',\n",
       " 'kegg_1bm_mapping.csv',\n",
       " 'ica_runs',\n",
       " 'multiqc_report.html',\n",
       " 'gene_info_curated_with_operons.tsv',\n",
       " '.DS_Store',\n",
       " 'iModulon_table.csv',\n",
       " 'log_tpm_qc.csv',\n",
       " 'counts.csv',\n",
       " 'DF_annot_curated_1.tsv',\n",
       " 'motifs',\n",
       " 'Sulfolobus_acidocaldarius_2020-08-20.tsv',\n",
       " 'metadata_qc.csv',\n",
       " 'eggNOG.annotations',\n",
       " 'tree_df_saci.csv',\n",
       " 'gene_info.tsv',\n",
       " 'log_tpm_norm.csv',\n",
       " 'gene_info_curated_Jan_07_2021.tsv',\n",
       " 'GO_annotations.txt',\n",
       " 'Sulfolobus_acidocaldarius_curated_2020-08-20.tsv',\n",
       " 'biocyc_smart_table.txt',\n",
       " 'log_tpm.csv',\n",
       " 'saci_trn_curated_01_01_2021.tsv',\n",
       " 'multiqc_stats.tsv',\n",
       " 'kegg_pathway_enrichments.csv',\n",
       " 'GO_enrichments.csv',\n",
       " 'kegg_module_enrichments.csv',\n",
       " 'kegg_mapping.csv',\n",
       " 'DF_annot_curated_final.tsv',\n",
       " 'saci_ica_data.json']"
      ]
     },
     "execution_count": 4,
     "metadata": {},
     "output_type": "execute_result"
    }
   ],
   "source": [
    "data_dir = path.join('../data/')\n",
    "os.listdir(data_dir)"
   ]
  },
  {
   "cell_type": "markdown",
   "metadata": {},
   "source": [
    "<font size=\"4\">Enter name of curated metadata file here</font>"
   ]
  },
  {
   "cell_type": "code",
   "execution_count": 5,
   "metadata": {
    "ExecuteTime": {
     "end_time": "2021-06-15T23:23:02.486182Z",
     "start_time": "2021-06-15T23:23:02.483184Z"
    }
   },
   "outputs": [],
   "source": [
    "metadata_file = \"Sulfolobus_acidocaldarius_curated_2020-08-20.tsv\" # Enter metadata filename here"
   ]
  },
  {
   "cell_type": "markdown",
   "metadata": {},
   "source": [
    "## Load expression data"
   ]
  },
  {
   "cell_type": "code",
   "execution_count": 6,
   "metadata": {
    "ExecuteTime": {
     "end_time": "2021-06-15T23:23:03.423140Z",
     "start_time": "2021-06-15T23:23:03.325733Z"
    },
    "scrolled": true
   },
   "outputs": [
    {
     "name": "stdout",
     "output_type": "stream",
     "text": [
      "Number of genes: 2296\n",
      "Number of samples: 117\n"
     ]
    }
   ],
   "source": [
    "DF_log_tpm = pd.read_csv(path.join(data_dir,'log_tpm.csv'),index_col=0).fillna(0)\n",
    "print('Number of genes:',DF_log_tpm.shape[0])\n",
    "print('Number of samples:',DF_log_tpm.shape[1])"
   ]
  },
  {
   "cell_type": "code",
   "execution_count": 7,
   "metadata": {
    "ExecuteTime": {
     "end_time": "2021-06-15T23:23:03.680468Z",
     "start_time": "2021-06-15T23:23:03.652307Z"
    }
   },
   "outputs": [
    {
     "data": {
      "text/html": [
       "<div>\n",
       "<style scoped>\n",
       "    .dataframe tbody tr th:only-of-type {\n",
       "        vertical-align: middle;\n",
       "    }\n",
       "\n",
       "    .dataframe tbody tr th {\n",
       "        vertical-align: top;\n",
       "    }\n",
       "\n",
       "    .dataframe thead th {\n",
       "        text-align: right;\n",
       "    }\n",
       "</style>\n",
       "<table border=\"1\" class=\"dataframe\">\n",
       "  <thead>\n",
       "    <tr style=\"text-align: right;\">\n",
       "      <th></th>\n",
       "      <th>ERX1518397</th>\n",
       "      <th>ERX1518398</th>\n",
       "      <th>ERX1518399</th>\n",
       "      <th>ERX3018360</th>\n",
       "      <th>ERX3018361</th>\n",
       "      <th>ERX3018362</th>\n",
       "      <th>ERX3018363</th>\n",
       "      <th>SRX2548838</th>\n",
       "      <th>SRX2548839</th>\n",
       "      <th>SRX2548840</th>\n",
       "      <th>...</th>\n",
       "      <th>SRX5653264</th>\n",
       "      <th>SRX5653265</th>\n",
       "      <th>SRX5653266</th>\n",
       "      <th>SRX5653267</th>\n",
       "      <th>SRX5653268</th>\n",
       "      <th>SRX5653269</th>\n",
       "      <th>SRX6762909</th>\n",
       "      <th>SRX6762910</th>\n",
       "      <th>SRX6762911</th>\n",
       "      <th>SRX6762912</th>\n",
       "    </tr>\n",
       "    <tr>\n",
       "      <th>Geneid</th>\n",
       "      <th></th>\n",
       "      <th></th>\n",
       "      <th></th>\n",
       "      <th></th>\n",
       "      <th></th>\n",
       "      <th></th>\n",
       "      <th></th>\n",
       "      <th></th>\n",
       "      <th></th>\n",
       "      <th></th>\n",
       "      <th></th>\n",
       "      <th></th>\n",
       "      <th></th>\n",
       "      <th></th>\n",
       "      <th></th>\n",
       "      <th></th>\n",
       "      <th></th>\n",
       "      <th></th>\n",
       "      <th></th>\n",
       "      <th></th>\n",
       "      <th></th>\n",
       "    </tr>\n",
       "  </thead>\n",
       "  <tbody>\n",
       "    <tr>\n",
       "      <th>SACI_RS00005</th>\n",
       "      <td>0.000000</td>\n",
       "      <td>0.000000</td>\n",
       "      <td>0.00000</td>\n",
       "      <td>8.903589</td>\n",
       "      <td>8.430008</td>\n",
       "      <td>8.961871</td>\n",
       "      <td>8.595260</td>\n",
       "      <td>8.448594</td>\n",
       "      <td>8.228731</td>\n",
       "      <td>8.368168</td>\n",
       "      <td>...</td>\n",
       "      <td>6.848788</td>\n",
       "      <td>7.185195</td>\n",
       "      <td>7.376186</td>\n",
       "      <td>7.685027</td>\n",
       "      <td>6.601357</td>\n",
       "      <td>7.652005</td>\n",
       "      <td>8.639968</td>\n",
       "      <td>8.791053</td>\n",
       "      <td>8.445832</td>\n",
       "      <td>8.605442</td>\n",
       "    </tr>\n",
       "    <tr>\n",
       "      <th>SACI_RS00010</th>\n",
       "      <td>0.000000</td>\n",
       "      <td>0.000000</td>\n",
       "      <td>0.00000</td>\n",
       "      <td>8.103548</td>\n",
       "      <td>7.884489</td>\n",
       "      <td>8.137422</td>\n",
       "      <td>7.954576</td>\n",
       "      <td>7.012592</td>\n",
       "      <td>8.351356</td>\n",
       "      <td>8.608128</td>\n",
       "      <td>...</td>\n",
       "      <td>6.114308</td>\n",
       "      <td>6.546701</td>\n",
       "      <td>6.703395</td>\n",
       "      <td>7.013190</td>\n",
       "      <td>5.926302</td>\n",
       "      <td>6.883948</td>\n",
       "      <td>8.100742</td>\n",
       "      <td>8.554694</td>\n",
       "      <td>8.134199</td>\n",
       "      <td>8.343690</td>\n",
       "    </tr>\n",
       "    <tr>\n",
       "      <th>SACI_RS00015</th>\n",
       "      <td>11.275116</td>\n",
       "      <td>11.282262</td>\n",
       "      <td>9.90887</td>\n",
       "      <td>10.824914</td>\n",
       "      <td>11.150282</td>\n",
       "      <td>10.843054</td>\n",
       "      <td>11.120130</td>\n",
       "      <td>9.559263</td>\n",
       "      <td>6.697930</td>\n",
       "      <td>7.179276</td>\n",
       "      <td>...</td>\n",
       "      <td>10.860233</td>\n",
       "      <td>10.735659</td>\n",
       "      <td>10.796574</td>\n",
       "      <td>10.874813</td>\n",
       "      <td>11.073584</td>\n",
       "      <td>10.869027</td>\n",
       "      <td>10.799551</td>\n",
       "      <td>11.091902</td>\n",
       "      <td>10.519661</td>\n",
       "      <td>10.883387</td>\n",
       "    </tr>\n",
       "    <tr>\n",
       "      <th>SACI_RS00020</th>\n",
       "      <td>6.535285</td>\n",
       "      <td>0.000000</td>\n",
       "      <td>0.00000</td>\n",
       "      <td>4.920237</td>\n",
       "      <td>5.854611</td>\n",
       "      <td>5.760206</td>\n",
       "      <td>5.885891</td>\n",
       "      <td>6.917147</td>\n",
       "      <td>5.140496</td>\n",
       "      <td>3.635002</td>\n",
       "      <td>...</td>\n",
       "      <td>5.309888</td>\n",
       "      <td>5.338677</td>\n",
       "      <td>5.418699</td>\n",
       "      <td>5.533618</td>\n",
       "      <td>5.420223</td>\n",
       "      <td>5.384989</td>\n",
       "      <td>5.386592</td>\n",
       "      <td>5.732974</td>\n",
       "      <td>5.931306</td>\n",
       "      <td>5.798582</td>\n",
       "    </tr>\n",
       "    <tr>\n",
       "      <th>SACI_RS00025</th>\n",
       "      <td>7.016261</td>\n",
       "      <td>0.000000</td>\n",
       "      <td>0.00000</td>\n",
       "      <td>7.904266</td>\n",
       "      <td>8.076969</td>\n",
       "      <td>7.998144</td>\n",
       "      <td>7.867476</td>\n",
       "      <td>7.082449</td>\n",
       "      <td>7.023425</td>\n",
       "      <td>6.744682</td>\n",
       "      <td>...</td>\n",
       "      <td>8.011013</td>\n",
       "      <td>8.092458</td>\n",
       "      <td>8.111934</td>\n",
       "      <td>8.131836</td>\n",
       "      <td>8.261467</td>\n",
       "      <td>8.238378</td>\n",
       "      <td>7.956496</td>\n",
       "      <td>7.930298</td>\n",
       "      <td>7.902762</td>\n",
       "      <td>7.961625</td>\n",
       "    </tr>\n",
       "  </tbody>\n",
       "</table>\n",
       "<p>5 rows × 117 columns</p>\n",
       "</div>"
      ],
      "text/plain": [
       "              ERX1518397  ERX1518398  ERX1518399  ERX3018360  ERX3018361  \\\n",
       "Geneid                                                                     \n",
       "SACI_RS00005    0.000000    0.000000     0.00000    8.903589    8.430008   \n",
       "SACI_RS00010    0.000000    0.000000     0.00000    8.103548    7.884489   \n",
       "SACI_RS00015   11.275116   11.282262     9.90887   10.824914   11.150282   \n",
       "SACI_RS00020    6.535285    0.000000     0.00000    4.920237    5.854611   \n",
       "SACI_RS00025    7.016261    0.000000     0.00000    7.904266    8.076969   \n",
       "\n",
       "              ERX3018362  ERX3018363  SRX2548838  SRX2548839  SRX2548840  ...  \\\n",
       "Geneid                                                                    ...   \n",
       "SACI_RS00005    8.961871    8.595260    8.448594    8.228731    8.368168  ...   \n",
       "SACI_RS00010    8.137422    7.954576    7.012592    8.351356    8.608128  ...   \n",
       "SACI_RS00015   10.843054   11.120130    9.559263    6.697930    7.179276  ...   \n",
       "SACI_RS00020    5.760206    5.885891    6.917147    5.140496    3.635002  ...   \n",
       "SACI_RS00025    7.998144    7.867476    7.082449    7.023425    6.744682  ...   \n",
       "\n",
       "              SRX5653264  SRX5653265  SRX5653266  SRX5653267  SRX5653268  \\\n",
       "Geneid                                                                     \n",
       "SACI_RS00005    6.848788    7.185195    7.376186    7.685027    6.601357   \n",
       "SACI_RS00010    6.114308    6.546701    6.703395    7.013190    5.926302   \n",
       "SACI_RS00015   10.860233   10.735659   10.796574   10.874813   11.073584   \n",
       "SACI_RS00020    5.309888    5.338677    5.418699    5.533618    5.420223   \n",
       "SACI_RS00025    8.011013    8.092458    8.111934    8.131836    8.261467   \n",
       "\n",
       "              SRX5653269  SRX6762909  SRX6762910  SRX6762911  SRX6762912  \n",
       "Geneid                                                                    \n",
       "SACI_RS00005    7.652005    8.639968    8.791053    8.445832    8.605442  \n",
       "SACI_RS00010    6.883948    8.100742    8.554694    8.134199    8.343690  \n",
       "SACI_RS00015   10.869027   10.799551   11.091902   10.519661   10.883387  \n",
       "SACI_RS00020    5.384989    5.386592    5.732974    5.931306    5.798582  \n",
       "SACI_RS00025    8.238378    7.956496    7.930298    7.902762    7.961625  \n",
       "\n",
       "[5 rows x 117 columns]"
      ]
     },
     "execution_count": 7,
     "metadata": {},
     "output_type": "execute_result"
    }
   ],
   "source": [
    "DF_log_tpm.head()"
   ]
  },
  {
   "cell_type": "markdown",
   "metadata": {},
   "source": [
    "## Load QC data\n",
    "<font size=\"4\">There may be some datasets that failed along the processing pipeline, so the number of samples with QC data may be higher than the number of samples with expression data.</font>"
   ]
  },
  {
   "cell_type": "code",
   "execution_count": 8,
   "metadata": {
    "ExecuteTime": {
     "end_time": "2021-06-15T23:23:05.282788Z",
     "start_time": "2021-06-15T23:23:05.270185Z"
    }
   },
   "outputs": [
    {
     "name": "stdout",
     "output_type": "stream",
     "text": [
      "Number of samples with QC data: 117\n"
     ]
    }
   ],
   "source": [
    "DF_qc_stats = pd.read_csv(path.join(data_dir,'multiqc_stats.tsv'),index_col=0, sep='\\t')\n",
    "print('Number of samples with QC data:',DF_qc_stats.shape[0])"
   ]
  },
  {
   "cell_type": "code",
   "execution_count": 9,
   "metadata": {
    "ExecuteTime": {
     "end_time": "2021-06-15T23:23:05.704373Z",
     "start_time": "2021-06-15T23:23:05.676228Z"
    }
   },
   "outputs": [
    {
     "data": {
      "text/html": [
       "<div>\n",
       "<style scoped>\n",
       "    .dataframe tbody tr th:only-of-type {\n",
       "        vertical-align: middle;\n",
       "    }\n",
       "\n",
       "    .dataframe tbody tr th {\n",
       "        vertical-align: top;\n",
       "    }\n",
       "\n",
       "    .dataframe thead th {\n",
       "        text-align: right;\n",
       "    }\n",
       "</style>\n",
       "<table border=\"1\" class=\"dataframe\">\n",
       "  <thead>\n",
       "    <tr style=\"text-align: right;\">\n",
       "      <th></th>\n",
       "      <th>Total</th>\n",
       "      <th>Assigned</th>\n",
       "      <th>Unassigned_rRNA</th>\n",
       "      <th>Unassigned_Unmapped</th>\n",
       "      <th>Unassigned_Read_Type</th>\n",
       "      <th>Unassigned_Singleton</th>\n",
       "      <th>Unassigned_MappingQuality</th>\n",
       "      <th>Unassigned_Chimera</th>\n",
       "      <th>Unassigned_FragmentLength</th>\n",
       "      <th>Unassigned_Duplicate</th>\n",
       "      <th>...</th>\n",
       "      <th>r_written</th>\n",
       "      <th>bp_processed</th>\n",
       "      <th>quality_trimmed</th>\n",
       "      <th>bp_written</th>\n",
       "      <th>percent_trimmed</th>\n",
       "      <th>pe_sense</th>\n",
       "      <th>pe_antisense</th>\n",
       "      <th>failed</th>\n",
       "      <th>se_sense</th>\n",
       "      <th>se_antisense</th>\n",
       "    </tr>\n",
       "    <tr>\n",
       "      <th>Sample</th>\n",
       "      <th></th>\n",
       "      <th></th>\n",
       "      <th></th>\n",
       "      <th></th>\n",
       "      <th></th>\n",
       "      <th></th>\n",
       "      <th></th>\n",
       "      <th></th>\n",
       "      <th></th>\n",
       "      <th></th>\n",
       "      <th></th>\n",
       "      <th></th>\n",
       "      <th></th>\n",
       "      <th></th>\n",
       "      <th></th>\n",
       "      <th></th>\n",
       "      <th></th>\n",
       "      <th></th>\n",
       "      <th></th>\n",
       "      <th></th>\n",
       "      <th></th>\n",
       "    </tr>\n",
       "  </thead>\n",
       "  <tbody>\n",
       "    <tr>\n",
       "      <th>ERX1518397</th>\n",
       "      <td>8365915</td>\n",
       "      <td>10283</td>\n",
       "      <td>28077</td>\n",
       "      <td>8322765</td>\n",
       "      <td>0</td>\n",
       "      <td>0</td>\n",
       "      <td>0</td>\n",
       "      <td>0</td>\n",
       "      <td>34</td>\n",
       "      <td>0</td>\n",
       "      <td>...</td>\n",
       "      <td>8929982</td>\n",
       "      <td>607238776</td>\n",
       "      <td>3896544</td>\n",
       "      <td>545607801</td>\n",
       "      <td>10.149381</td>\n",
       "      <td>0.0164</td>\n",
       "      <td>0.3196</td>\n",
       "      <td>0.6640</td>\n",
       "      <td>0.0</td>\n",
       "      <td>0.0</td>\n",
       "    </tr>\n",
       "    <tr>\n",
       "      <th>ERX1518398</th>\n",
       "      <td>4886827</td>\n",
       "      <td>3864</td>\n",
       "      <td>14010</td>\n",
       "      <td>4866322</td>\n",
       "      <td>0</td>\n",
       "      <td>0</td>\n",
       "      <td>0</td>\n",
       "      <td>0</td>\n",
       "      <td>8</td>\n",
       "      <td>0</td>\n",
       "      <td>...</td>\n",
       "      <td>5489885</td>\n",
       "      <td>373312180</td>\n",
       "      <td>2954939</td>\n",
       "      <td>301318297</td>\n",
       "      <td>19.285169</td>\n",
       "      <td>0.0179</td>\n",
       "      <td>0.4421</td>\n",
       "      <td>0.5400</td>\n",
       "      <td>0.0</td>\n",
       "      <td>0.0</td>\n",
       "    </tr>\n",
       "    <tr>\n",
       "      <th>ERX1518399</th>\n",
       "      <td>6932975</td>\n",
       "      <td>8941</td>\n",
       "      <td>20802</td>\n",
       "      <td>6899499</td>\n",
       "      <td>0</td>\n",
       "      <td>0</td>\n",
       "      <td>0</td>\n",
       "      <td>0</td>\n",
       "      <td>6</td>\n",
       "      <td>0</td>\n",
       "      <td>...</td>\n",
       "      <td>7366354</td>\n",
       "      <td>552476550</td>\n",
       "      <td>9876077</td>\n",
       "      <td>515391384</td>\n",
       "      <td>6.712532</td>\n",
       "      <td>0.0201</td>\n",
       "      <td>0.3200</td>\n",
       "      <td>0.6599</td>\n",
       "      <td>0.0</td>\n",
       "      <td>0.0</td>\n",
       "    </tr>\n",
       "    <tr>\n",
       "      <th>ERX3018360</th>\n",
       "      <td>11768789</td>\n",
       "      <td>1476962</td>\n",
       "      <td>9912496</td>\n",
       "      <td>236788</td>\n",
       "      <td>0</td>\n",
       "      <td>0</td>\n",
       "      <td>0</td>\n",
       "      <td>0</td>\n",
       "      <td>34413</td>\n",
       "      <td>0</td>\n",
       "      <td>...</td>\n",
       "      <td>11779481</td>\n",
       "      <td>1460655644</td>\n",
       "      <td>6687967</td>\n",
       "      <td>1422787367</td>\n",
       "      <td>2.592553</td>\n",
       "      <td>0.0011</td>\n",
       "      <td>0.0528</td>\n",
       "      <td>0.9461</td>\n",
       "      <td>0.0</td>\n",
       "      <td>0.0</td>\n",
       "    </tr>\n",
       "    <tr>\n",
       "      <th>ERX3018361</th>\n",
       "      <td>7611559</td>\n",
       "      <td>921256</td>\n",
       "      <td>6439080</td>\n",
       "      <td>154162</td>\n",
       "      <td>0</td>\n",
       "      <td>0</td>\n",
       "      <td>0</td>\n",
       "      <td>0</td>\n",
       "      <td>23942</td>\n",
       "      <td>0</td>\n",
       "      <td>...</td>\n",
       "      <td>7618684</td>\n",
       "      <td>944716816</td>\n",
       "      <td>4641411</td>\n",
       "      <td>925248512</td>\n",
       "      <td>2.060756</td>\n",
       "      <td>0.0011</td>\n",
       "      <td>0.0499</td>\n",
       "      <td>0.9490</td>\n",
       "      <td>0.0</td>\n",
       "      <td>0.0</td>\n",
       "    </tr>\n",
       "  </tbody>\n",
       "</table>\n",
       "<p>5 rows × 54 columns</p>\n",
       "</div>"
      ],
      "text/plain": [
       "               Total  Assigned  Unassigned_rRNA  Unassigned_Unmapped  \\\n",
       "Sample                                                                 \n",
       "ERX1518397   8365915     10283            28077              8322765   \n",
       "ERX1518398   4886827      3864            14010              4866322   \n",
       "ERX1518399   6932975      8941            20802              6899499   \n",
       "ERX3018360  11768789   1476962          9912496               236788   \n",
       "ERX3018361   7611559    921256          6439080               154162   \n",
       "\n",
       "            Unassigned_Read_Type  Unassigned_Singleton  \\\n",
       "Sample                                                   \n",
       "ERX1518397                     0                     0   \n",
       "ERX1518398                     0                     0   \n",
       "ERX1518399                     0                     0   \n",
       "ERX3018360                     0                     0   \n",
       "ERX3018361                     0                     0   \n",
       "\n",
       "            Unassigned_MappingQuality  Unassigned_Chimera  \\\n",
       "Sample                                                      \n",
       "ERX1518397                          0                   0   \n",
       "ERX1518398                          0                   0   \n",
       "ERX1518399                          0                   0   \n",
       "ERX3018360                          0                   0   \n",
       "ERX3018361                          0                   0   \n",
       "\n",
       "            Unassigned_FragmentLength  Unassigned_Duplicate  ...  r_written  \\\n",
       "Sample                                                       ...              \n",
       "ERX1518397                         34                     0  ...    8929982   \n",
       "ERX1518398                          8                     0  ...    5489885   \n",
       "ERX1518399                          6                     0  ...    7366354   \n",
       "ERX3018360                      34413                     0  ...   11779481   \n",
       "ERX3018361                      23942                     0  ...    7618684   \n",
       "\n",
       "            bp_processed  quality_trimmed  bp_written  percent_trimmed  \\\n",
       "Sample                                                                   \n",
       "ERX1518397     607238776          3896544   545607801        10.149381   \n",
       "ERX1518398     373312180          2954939   301318297        19.285169   \n",
       "ERX1518399     552476550          9876077   515391384         6.712532   \n",
       "ERX3018360    1460655644          6687967  1422787367         2.592553   \n",
       "ERX3018361     944716816          4641411   925248512         2.060756   \n",
       "\n",
       "            pe_sense  pe_antisense  failed  se_sense  se_antisense  \n",
       "Sample                                                              \n",
       "ERX1518397    0.0164        0.3196  0.6640       0.0           0.0  \n",
       "ERX1518398    0.0179        0.4421  0.5400       0.0           0.0  \n",
       "ERX1518399    0.0201        0.3200  0.6599       0.0           0.0  \n",
       "ERX3018360    0.0011        0.0528  0.9461       0.0           0.0  \n",
       "ERX3018361    0.0011        0.0499  0.9490       0.0           0.0  \n",
       "\n",
       "[5 rows x 54 columns]"
      ]
     },
     "execution_count": 9,
     "metadata": {},
     "output_type": "execute_result"
    }
   ],
   "source": [
    "DF_qc_stats.fillna(0,inplace=True)\n",
    "DF_qc_stats.head()"
   ]
  },
  {
   "cell_type": "markdown",
   "metadata": {},
   "source": [
    "## Load metadata"
   ]
  },
  {
   "cell_type": "code",
   "execution_count": 10,
   "metadata": {
    "ExecuteTime": {
     "end_time": "2021-06-15T23:23:07.399390Z",
     "start_time": "2021-06-15T23:23:07.353529Z"
    }
   },
   "outputs": [
    {
     "name": "stdout",
     "output_type": "stream",
     "text": [
      "Number of samples with metadata: 117\n"
     ]
    },
    {
     "data": {
      "text/html": [
       "<div>\n",
       "<style scoped>\n",
       "    .dataframe tbody tr th:only-of-type {\n",
       "        vertical-align: middle;\n",
       "    }\n",
       "\n",
       "    .dataframe tbody tr th {\n",
       "        vertical-align: top;\n",
       "    }\n",
       "\n",
       "    .dataframe thead th {\n",
       "        text-align: right;\n",
       "    }\n",
       "</style>\n",
       "<table border=\"1\" class=\"dataframe\">\n",
       "  <thead>\n",
       "    <tr style=\"text-align: right;\">\n",
       "      <th></th>\n",
       "      <th>ReleaseDate</th>\n",
       "      <th>TaxID</th>\n",
       "      <th>ScientificName</th>\n",
       "      <th>species_tax_id</th>\n",
       "      <th>class_tax_id</th>\n",
       "      <th>strain_tax_id</th>\n",
       "      <th>species</th>\n",
       "      <th>LibraryLayout</th>\n",
       "      <th>Platform</th>\n",
       "      <th>Model</th>\n",
       "      <th>...</th>\n",
       "      <th>nitrogen_source</th>\n",
       "      <th>aerobicity</th>\n",
       "      <th>supplement</th>\n",
       "      <th>temperature</th>\n",
       "      <th>pH</th>\n",
       "      <th>growth_phase</th>\n",
       "      <th>OD</th>\n",
       "      <th>additional_notes</th>\n",
       "      <th>R1</th>\n",
       "      <th>R2</th>\n",
       "    </tr>\n",
       "    <tr>\n",
       "      <th>Experiment</th>\n",
       "      <th></th>\n",
       "      <th></th>\n",
       "      <th></th>\n",
       "      <th></th>\n",
       "      <th></th>\n",
       "      <th></th>\n",
       "      <th></th>\n",
       "      <th></th>\n",
       "      <th></th>\n",
       "      <th></th>\n",
       "      <th></th>\n",
       "      <th></th>\n",
       "      <th></th>\n",
       "      <th></th>\n",
       "      <th></th>\n",
       "      <th></th>\n",
       "      <th></th>\n",
       "      <th></th>\n",
       "      <th></th>\n",
       "      <th></th>\n",
       "      <th></th>\n",
       "    </tr>\n",
       "  </thead>\n",
       "  <tbody>\n",
       "    <tr>\n",
       "      <th>ERX1518397</th>\n",
       "      <td>2016-07-14 11:49:35</td>\n",
       "      <td>330779</td>\n",
       "      <td>Sulfolobus acidocaldarius DSM 639</td>\n",
       "      <td>2285</td>\n",
       "      <td>183924</td>\n",
       "      <td>330779</td>\n",
       "      <td>Sulfolobus acidocaldarius</td>\n",
       "      <td>PAIRED</td>\n",
       "      <td>ILLUMINA</td>\n",
       "      <td>NextSeq 500</td>\n",
       "      <td>...</td>\n",
       "      <td>(NH4)2SO4(1.3)</td>\n",
       "      <td>NaN</td>\n",
       "      <td>0.1% Tryptophan (Difco)</td>\n",
       "      <td>NaN</td>\n",
       "      <td>NaN</td>\n",
       "      <td>NaN</td>\n",
       "      <td>NaN</td>\n",
       "      <td>NaN</td>\n",
       "      <td>NaN</td>\n",
       "      <td>NaN</td>\n",
       "    </tr>\n",
       "    <tr>\n",
       "      <th>ERX1518398</th>\n",
       "      <td>2016-07-14 11:49:35</td>\n",
       "      <td>330779</td>\n",
       "      <td>Sulfolobus acidocaldarius DSM 639</td>\n",
       "      <td>2285</td>\n",
       "      <td>183924</td>\n",
       "      <td>330779</td>\n",
       "      <td>Sulfolobus acidocaldarius</td>\n",
       "      <td>PAIRED</td>\n",
       "      <td>ILLUMINA</td>\n",
       "      <td>NextSeq 500</td>\n",
       "      <td>...</td>\n",
       "      <td>(NH4)2SO4(1.3)</td>\n",
       "      <td>NaN</td>\n",
       "      <td>0.1% Tryptophan (Difco)</td>\n",
       "      <td>NaN</td>\n",
       "      <td>NaN</td>\n",
       "      <td>NaN</td>\n",
       "      <td>NaN</td>\n",
       "      <td>NaN</td>\n",
       "      <td>NaN</td>\n",
       "      <td>NaN</td>\n",
       "    </tr>\n",
       "    <tr>\n",
       "      <th>ERX1518399</th>\n",
       "      <td>2016-07-14 11:49:35</td>\n",
       "      <td>330779</td>\n",
       "      <td>Sulfolobus acidocaldarius DSM 639</td>\n",
       "      <td>2285</td>\n",
       "      <td>183924</td>\n",
       "      <td>330779</td>\n",
       "      <td>Sulfolobus acidocaldarius</td>\n",
       "      <td>PAIRED</td>\n",
       "      <td>ILLUMINA</td>\n",
       "      <td>NextSeq 500</td>\n",
       "      <td>...</td>\n",
       "      <td>(NH4)2SO4(1.3)</td>\n",
       "      <td>NaN</td>\n",
       "      <td>0.1% Tryptophan (Difco)</td>\n",
       "      <td>NaN</td>\n",
       "      <td>NaN</td>\n",
       "      <td>NaN</td>\n",
       "      <td>NaN</td>\n",
       "      <td>NaN</td>\n",
       "      <td>NaN</td>\n",
       "      <td>NaN</td>\n",
       "    </tr>\n",
       "    <tr>\n",
       "      <th>ERX3018360</th>\n",
       "      <td>2019-01-24 13:14:25</td>\n",
       "      <td>330779</td>\n",
       "      <td>Sulfolobus acidocaldarius DSM 639</td>\n",
       "      <td>2285</td>\n",
       "      <td>183924</td>\n",
       "      <td>330779</td>\n",
       "      <td>Sulfolobus acidocaldarius</td>\n",
       "      <td>PAIRED</td>\n",
       "      <td>ILLUMINA</td>\n",
       "      <td>Illumina HiSeq 2500</td>\n",
       "      <td>...</td>\n",
       "      <td>NaN</td>\n",
       "      <td>NaN</td>\n",
       "      <td>NaN</td>\n",
       "      <td>NaN</td>\n",
       "      <td>NaN</td>\n",
       "      <td>NaN</td>\n",
       "      <td>NaN</td>\n",
       "      <td>NaN</td>\n",
       "      <td>NaN</td>\n",
       "      <td>NaN</td>\n",
       "    </tr>\n",
       "    <tr>\n",
       "      <th>ERX3018361</th>\n",
       "      <td>2019-01-24 13:14:25</td>\n",
       "      <td>330779</td>\n",
       "      <td>Sulfolobus acidocaldarius DSM 639</td>\n",
       "      <td>2285</td>\n",
       "      <td>183924</td>\n",
       "      <td>330779</td>\n",
       "      <td>Sulfolobus acidocaldarius</td>\n",
       "      <td>PAIRED</td>\n",
       "      <td>ILLUMINA</td>\n",
       "      <td>Illumina HiSeq 2500</td>\n",
       "      <td>...</td>\n",
       "      <td>NaN</td>\n",
       "      <td>NaN</td>\n",
       "      <td>NaN</td>\n",
       "      <td>NaN</td>\n",
       "      <td>NaN</td>\n",
       "      <td>NaN</td>\n",
       "      <td>NaN</td>\n",
       "      <td>NaN</td>\n",
       "      <td>NaN</td>\n",
       "      <td>NaN</td>\n",
       "    </tr>\n",
       "  </tbody>\n",
       "</table>\n",
       "<p>5 rows × 48 columns</p>\n",
       "</div>"
      ],
      "text/plain": [
       "                    ReleaseDate   TaxID                     ScientificName  \\\n",
       "Experiment                                                                   \n",
       "ERX1518397  2016-07-14 11:49:35  330779  Sulfolobus acidocaldarius DSM 639   \n",
       "ERX1518398  2016-07-14 11:49:35  330779  Sulfolobus acidocaldarius DSM 639   \n",
       "ERX1518399  2016-07-14 11:49:35  330779  Sulfolobus acidocaldarius DSM 639   \n",
       "ERX3018360  2019-01-24 13:14:25  330779  Sulfolobus acidocaldarius DSM 639   \n",
       "ERX3018361  2019-01-24 13:14:25  330779  Sulfolobus acidocaldarius DSM 639   \n",
       "\n",
       "            species_tax_id  class_tax_id  strain_tax_id  \\\n",
       "Experiment                                                \n",
       "ERX1518397            2285        183924         330779   \n",
       "ERX1518398            2285        183924         330779   \n",
       "ERX1518399            2285        183924         330779   \n",
       "ERX3018360            2285        183924         330779   \n",
       "ERX3018361            2285        183924         330779   \n",
       "\n",
       "                              species LibraryLayout  Platform  \\\n",
       "Experiment                                                      \n",
       "ERX1518397  Sulfolobus acidocaldarius        PAIRED  ILLUMINA   \n",
       "ERX1518398  Sulfolobus acidocaldarius        PAIRED  ILLUMINA   \n",
       "ERX1518399  Sulfolobus acidocaldarius        PAIRED  ILLUMINA   \n",
       "ERX3018360  Sulfolobus acidocaldarius        PAIRED  ILLUMINA   \n",
       "ERX3018361  Sulfolobus acidocaldarius        PAIRED  ILLUMINA   \n",
       "\n",
       "                          Model  ... nitrogen_source aerobicity  \\\n",
       "Experiment                       ...                              \n",
       "ERX1518397          NextSeq 500  ...  (NH4)2SO4(1.3)        NaN   \n",
       "ERX1518398          NextSeq 500  ...  (NH4)2SO4(1.3)        NaN   \n",
       "ERX1518399          NextSeq 500  ...  (NH4)2SO4(1.3)        NaN   \n",
       "ERX3018360  Illumina HiSeq 2500  ...             NaN        NaN   \n",
       "ERX3018361  Illumina HiSeq 2500  ...             NaN        NaN   \n",
       "\n",
       "                         supplement  temperature  pH growth_phase  OD  \\\n",
       "Experiment                                                              \n",
       "ERX1518397  0.1% Tryptophan (Difco)          NaN NaN          NaN NaN   \n",
       "ERX1518398  0.1% Tryptophan (Difco)          NaN NaN          NaN NaN   \n",
       "ERX1518399  0.1% Tryptophan (Difco)          NaN NaN          NaN NaN   \n",
       "ERX3018360                      NaN          NaN NaN          NaN NaN   \n",
       "ERX3018361                      NaN          NaN NaN          NaN NaN   \n",
       "\n",
       "           additional_notes  R1  R2  \n",
       "Experiment                           \n",
       "ERX1518397              NaN NaN NaN  \n",
       "ERX1518398              NaN NaN NaN  \n",
       "ERX1518399              NaN NaN NaN  \n",
       "ERX3018360              NaN NaN NaN  \n",
       "ERX3018361              NaN NaN NaN  \n",
       "\n",
       "[5 rows x 48 columns]"
      ]
     },
     "execution_count": 10,
     "metadata": {},
     "output_type": "execute_result"
    }
   ],
   "source": [
    "DF_metadata = pd.read_csv(path.join(data_dir,metadata_file),index_col=0,sep='\\t')\n",
    "print('Number of samples with metadata:',DF_metadata.shape[0])\n",
    "DF_metadata.head()"
   ]
  },
  {
   "cell_type": "markdown",
   "metadata": {},
   "source": [
    "## Remove extra sample rows"
   ]
  },
  {
   "cell_type": "code",
   "execution_count": 11,
   "metadata": {
    "ExecuteTime": {
     "end_time": "2021-06-15T23:23:08.988275Z",
     "start_time": "2021-06-15T23:23:08.984604Z"
    }
   },
   "outputs": [],
   "source": [
    "# Ensure that metadata and qc_stats data contain all log_tpm sample information\n",
    "assert(set(DF_log_tpm.columns) - set(DF_metadata.index) == set())\n",
    "assert(set(DF_log_tpm.columns) - set(DF_qc_stats.index) == set())"
   ]
  },
  {
   "cell_type": "code",
   "execution_count": 12,
   "metadata": {
    "ExecuteTime": {
     "end_time": "2021-06-15T23:23:09.382989Z",
     "start_time": "2021-06-15T23:23:09.377171Z"
    }
   },
   "outputs": [],
   "source": [
    "DF_metadata = DF_metadata.loc[DF_log_tpm.columns]\n",
    "DF_qc_stats = DF_qc_stats.loc[DF_log_tpm.columns]"
   ]
  },
  {
   "cell_type": "markdown",
   "metadata": {},
   "source": [
    "# Check statistics"
   ]
  },
  {
   "cell_type": "markdown",
   "metadata": {},
   "source": [
    "<font size=\"4\">From here, create a new spreadsheet where you can flag samples based on various QC statistics</font>\n"
   ]
  },
  {
   "cell_type": "markdown",
   "metadata": {},
   "source": [
    "## FastQC stats"
   ]
  },
  {
   "cell_type": "code",
   "execution_count": 13,
   "metadata": {
    "ExecuteTime": {
     "end_time": "2021-06-15T23:23:12.095023Z",
     "start_time": "2021-06-15T23:23:12.091613Z"
    }
   },
   "outputs": [],
   "source": [
    "fastqc_cols = ['per_base_sequence_quality',\n",
    "       'per_tile_sequence_quality', 'per_sequence_quality_scores',\n",
    "       'per_base_sequence_content', 'per_sequence_gc_content',\n",
    "       'per_base_n_content', 'sequence_length_distribution',\n",
    "       'sequence_duplication_levels', 'overrepresented_sequences',\n",
    "       'adapter_content']"
   ]
  },
  {
   "cell_type": "code",
   "execution_count": 14,
   "metadata": {
    "ExecuteTime": {
     "end_time": "2021-06-15T23:23:16.397896Z",
     "start_time": "2021-06-15T23:23:16.060573Z"
    }
   },
   "outputs": [
    {
     "data": {
      "image/png": "[encoded data removed]",
      "text/plain": [
       "<Figure size 432x288 with 2 Axes>"
      ]
     },
     "metadata": {},
     "output_type": "display_data"
    }
   ],
   "source": [
    "DF_fastqc = DF_qc_stats[fastqc_cols]\n",
    "ax = sns.heatmap(DF_fastqc.replace('pass',1).replace('warn',0).replace('fail',-1),\n",
    "            cmap='RdYlBu',vmax=1.3,vmin=-1.3)\n",
    "cbar = ax.collections[0].colorbar\n",
    "cbar.set_ticks([-1,0,1])\n",
    "cbar.set_ticklabels(['fail','warn','pass'])"
   ]
  },
  {
   "cell_type": "markdown",
   "metadata": {},
   "source": [
    "<font size=\"4\">The following four categories are the most important:\n",
    "    - per_base_sequence_quality\n",
    "    - per_sequence_quality_scores\n",
    "    - per_base_n_content\n",
    "    - adapter_content\n",
    "    \n",
    "If a sample does not pass any of these four categories, discard the sample\n",
    "</font>"
   ]
  },
  {
   "cell_type": "code",
   "execution_count": 15,
   "metadata": {
    "ExecuteTime": {
     "end_time": "2021-06-15T23:23:18.583877Z",
     "start_time": "2021-06-15T23:23:18.581090Z"
    }
   },
   "outputs": [],
   "source": [
    "# Remove per_base_n_content from fail cols\n",
    "#fastqc_fail_cols = ['per_base_sequence_quality','per_sequence_quality_scores','per_base_n_content','adapter_content']\n",
    "fastqc_fail_cols = ['per_base_sequence_quality','per_sequence_quality_scores','adapter_content']"
   ]
  },
  {
   "cell_type": "code",
   "execution_count": 16,
   "metadata": {
    "ExecuteTime": {
     "end_time": "2021-06-15T23:23:18.975759Z",
     "start_time": "2021-06-15T23:23:18.961798Z"
    }
   },
   "outputs": [
    {
     "data": {
      "text/html": [
       "<div>\n",
       "<style scoped>\n",
       "    .dataframe tbody tr th:only-of-type {\n",
       "        vertical-align: middle;\n",
       "    }\n",
       "\n",
       "    .dataframe tbody tr th {\n",
       "        vertical-align: top;\n",
       "    }\n",
       "\n",
       "    .dataframe thead th {\n",
       "        text-align: right;\n",
       "    }\n",
       "</style>\n",
       "<table border=\"1\" class=\"dataframe\">\n",
       "  <thead>\n",
       "    <tr style=\"text-align: right;\">\n",
       "      <th></th>\n",
       "      <th>per_base_sequence_quality</th>\n",
       "      <th>per_sequence_quality_scores</th>\n",
       "      <th>adapter_content</th>\n",
       "    </tr>\n",
       "  </thead>\n",
       "  <tbody>\n",
       "    <tr>\n",
       "      <th>ERX1518398</th>\n",
       "      <td>fail</td>\n",
       "      <td>pass</td>\n",
       "      <td>pass</td>\n",
       "    </tr>\n",
       "    <tr>\n",
       "      <th>ERX1518399</th>\n",
       "      <td>fail</td>\n",
       "      <td>pass</td>\n",
       "      <td>pass</td>\n",
       "    </tr>\n",
       "    <tr>\n",
       "      <th>SRX2548839</th>\n",
       "      <td>fail</td>\n",
       "      <td>pass</td>\n",
       "      <td>pass</td>\n",
       "    </tr>\n",
       "    <tr>\n",
       "      <th>SRX2548840</th>\n",
       "      <td>fail</td>\n",
       "      <td>pass</td>\n",
       "      <td>pass</td>\n",
       "    </tr>\n",
       "    <tr>\n",
       "      <th>SRX2781382</th>\n",
       "      <td>fail</td>\n",
       "      <td>pass</td>\n",
       "      <td>pass</td>\n",
       "    </tr>\n",
       "  </tbody>\n",
       "</table>\n",
       "</div>"
      ],
      "text/plain": [
       "           per_base_sequence_quality per_sequence_quality_scores  \\\n",
       "ERX1518398                      fail                        pass   \n",
       "ERX1518399                      fail                        pass   \n",
       "SRX2548839                      fail                        pass   \n",
       "SRX2548840                      fail                        pass   \n",
       "SRX2781382                      fail                        pass   \n",
       "\n",
       "           adapter_content  \n",
       "ERX1518398            pass  \n",
       "ERX1518399            pass  \n",
       "SRX2548839            pass  \n",
       "SRX2548840            pass  \n",
       "SRX2781382            pass  "
      ]
     },
     "execution_count": 16,
     "metadata": {},
     "output_type": "execute_result"
    }
   ],
   "source": [
    "DF_failed_fastqc = DF_fastqc[fastqc_fail_cols][(DF_fastqc[fastqc_fail_cols] != 'pass').any(axis=1)]\n",
    "DF_failed_fastqc[fastqc_fail_cols]"
   ]
  },
  {
   "cell_type": "markdown",
   "metadata": {},
   "source": [
    "<font size=\"4\">Mark samples as failed.</font>"
   ]
  },
  {
   "cell_type": "code",
   "execution_count": 17,
   "metadata": {
    "ExecuteTime": {
     "end_time": "2021-06-15T23:23:19.686914Z",
     "start_time": "2021-06-15T23:23:19.682929Z"
    }
   },
   "outputs": [],
   "source": [
    "DF_metadata['passed_fastqc'] = ~DF_metadata.index.isin(DF_failed_fastqc.index)"
   ]
  },
  {
   "cell_type": "markdown",
   "metadata": {},
   "source": [
    "## Percent of reads aligned to genome"
   ]
  },
  {
   "cell_type": "code",
   "execution_count": 18,
   "metadata": {
    "ExecuteTime": {
     "end_time": "2021-06-15T23:23:20.474967Z",
     "start_time": "2021-06-15T23:23:20.470614Z"
    }
   },
   "outputs": [
    {
     "data": {
      "text/plain": [
       "40"
      ]
     },
     "execution_count": 18,
     "metadata": {},
     "output_type": "execute_result"
    }
   ],
   "source": [
    "min_pct_aligned"
   ]
  },
  {
   "cell_type": "code",
   "execution_count": 19,
   "metadata": {
    "ExecuteTime": {
     "end_time": "2021-06-15T23:23:21.585365Z",
     "start_time": "2021-06-15T23:23:21.348634Z"
    }
   },
   "outputs": [
    {
     "data": {
      "text/plain": [
       "Text(0.5, 1.0, 'Histogram of Alignment Percentage')"
      ]
     },
     "execution_count": 19,
     "metadata": {},
     "output_type": "execute_result"
    },
    {
     "data": {
      "image/png": "[encoded data removed]",
      "text/plain": [
       "<Figure size 432x288 with 1 Axes>"
      ]
     },
     "metadata": {},
     "output_type": "display_data"
    }
   ],
   "source": [
    "fig,ax = plt.subplots()\n",
    "ax.hist(DF_qc_stats['reads_aligned_percentage'],bins=50,alpha=0.8)\n",
    "ymin,ymax = ax.get_ylim()\n",
    "ax.vlines(min_pct_aligned,ymin,ymax,color='r')\n",
    "ax.set_ylim((ymin,ymax))\n",
    "ax.set_xlabel('% of reads mapped to genome',fontsize=14)\n",
    "ax.set_ylabel('# Samples',fontsize=14)\n",
    "ax.set_title('Histogram of Alignment Percentage',fontsize=16)"
   ]
  },
  {
   "cell_type": "code",
   "execution_count": 20,
   "metadata": {
    "ExecuteTime": {
     "end_time": "2021-06-15T23:23:22.007831Z",
     "start_time": "2021-06-15T23:23:21.999518Z"
    }
   },
   "outputs": [
    {
     "data": {
      "text/plain": [
       "ERX1518397     0.52\n",
       "ERX1518398     0.42\n",
       "ERX1518399     0.48\n",
       "ERX3018360    97.99\n",
       "ERX3018361    97.97\n",
       "              ...  \n",
       "SRX5653269    98.04\n",
       "SRX6762909    97.91\n",
       "SRX6762910    97.61\n",
       "SRX6762911    98.06\n",
       "SRX6762912    97.79\n",
       "Name: reads_aligned_percentage, Length: 117, dtype: float64"
      ]
     },
     "execution_count": 20,
     "metadata": {},
     "output_type": "execute_result"
    }
   ],
   "source": [
    "percent_alignment = DF_qc_stats['reads_aligned_percentage']\n",
    "percent_alignment"
   ]
  },
  {
   "cell_type": "code",
   "execution_count": 21,
   "metadata": {
    "ExecuteTime": {
     "end_time": "2021-06-15T23:23:22.473841Z",
     "start_time": "2021-06-15T23:23:22.451039Z"
    }
   },
   "outputs": [
    {
     "data": {
      "text/html": [
       "<div>\n",
       "<style scoped>\n",
       "    .dataframe tbody tr th:only-of-type {\n",
       "        vertical-align: middle;\n",
       "    }\n",
       "\n",
       "    .dataframe tbody tr th {\n",
       "        vertical-align: top;\n",
       "    }\n",
       "\n",
       "    .dataframe thead th {\n",
       "        text-align: right;\n",
       "    }\n",
       "</style>\n",
       "<table border=\"1\" class=\"dataframe\">\n",
       "  <thead>\n",
       "    <tr style=\"text-align: right;\">\n",
       "      <th></th>\n",
       "      <th>Total</th>\n",
       "      <th>Assigned</th>\n",
       "      <th>Unassigned_rRNA</th>\n",
       "      <th>Unassigned_Unmapped</th>\n",
       "      <th>Unassigned_Read_Type</th>\n",
       "      <th>Unassigned_Singleton</th>\n",
       "      <th>Unassigned_MappingQuality</th>\n",
       "      <th>Unassigned_Chimera</th>\n",
       "      <th>Unassigned_FragmentLength</th>\n",
       "      <th>Unassigned_Duplicate</th>\n",
       "      <th>...</th>\n",
       "      <th>r_written</th>\n",
       "      <th>bp_processed</th>\n",
       "      <th>quality_trimmed</th>\n",
       "      <th>bp_written</th>\n",
       "      <th>percent_trimmed</th>\n",
       "      <th>pe_sense</th>\n",
       "      <th>pe_antisense</th>\n",
       "      <th>failed</th>\n",
       "      <th>se_sense</th>\n",
       "      <th>se_antisense</th>\n",
       "    </tr>\n",
       "  </thead>\n",
       "  <tbody>\n",
       "    <tr>\n",
       "      <th>ERX1518397</th>\n",
       "      <td>8365915</td>\n",
       "      <td>10283</td>\n",
       "      <td>28077</td>\n",
       "      <td>8322765</td>\n",
       "      <td>0</td>\n",
       "      <td>0</td>\n",
       "      <td>0</td>\n",
       "      <td>0</td>\n",
       "      <td>34</td>\n",
       "      <td>0</td>\n",
       "      <td>...</td>\n",
       "      <td>8929982</td>\n",
       "      <td>607238776</td>\n",
       "      <td>3896544</td>\n",
       "      <td>545607801</td>\n",
       "      <td>10.149381</td>\n",
       "      <td>0.0164</td>\n",
       "      <td>0.3196</td>\n",
       "      <td>0.6640</td>\n",
       "      <td>0.0</td>\n",
       "      <td>0.0</td>\n",
       "    </tr>\n",
       "    <tr>\n",
       "      <th>ERX1518398</th>\n",
       "      <td>4886827</td>\n",
       "      <td>3864</td>\n",
       "      <td>14010</td>\n",
       "      <td>4866322</td>\n",
       "      <td>0</td>\n",
       "      <td>0</td>\n",
       "      <td>0</td>\n",
       "      <td>0</td>\n",
       "      <td>8</td>\n",
       "      <td>0</td>\n",
       "      <td>...</td>\n",
       "      <td>5489885</td>\n",
       "      <td>373312180</td>\n",
       "      <td>2954939</td>\n",
       "      <td>301318297</td>\n",
       "      <td>19.285169</td>\n",
       "      <td>0.0179</td>\n",
       "      <td>0.4421</td>\n",
       "      <td>0.5400</td>\n",
       "      <td>0.0</td>\n",
       "      <td>0.0</td>\n",
       "    </tr>\n",
       "    <tr>\n",
       "      <th>ERX1518399</th>\n",
       "      <td>6932975</td>\n",
       "      <td>8941</td>\n",
       "      <td>20802</td>\n",
       "      <td>6899499</td>\n",
       "      <td>0</td>\n",
       "      <td>0</td>\n",
       "      <td>0</td>\n",
       "      <td>0</td>\n",
       "      <td>6</td>\n",
       "      <td>0</td>\n",
       "      <td>...</td>\n",
       "      <td>7366354</td>\n",
       "      <td>552476550</td>\n",
       "      <td>9876077</td>\n",
       "      <td>515391384</td>\n",
       "      <td>6.712532</td>\n",
       "      <td>0.0201</td>\n",
       "      <td>0.3200</td>\n",
       "      <td>0.6599</td>\n",
       "      <td>0.0</td>\n",
       "      <td>0.0</td>\n",
       "    </tr>\n",
       "  </tbody>\n",
       "</table>\n",
       "<p>3 rows × 54 columns</p>\n",
       "</div>"
      ],
      "text/plain": [
       "              Total  Assigned  Unassigned_rRNA  Unassigned_Unmapped  \\\n",
       "ERX1518397  8365915     10283            28077              8322765   \n",
       "ERX1518398  4886827      3864            14010              4866322   \n",
       "ERX1518399  6932975      8941            20802              6899499   \n",
       "\n",
       "            Unassigned_Read_Type  Unassigned_Singleton  \\\n",
       "ERX1518397                     0                     0   \n",
       "ERX1518398                     0                     0   \n",
       "ERX1518399                     0                     0   \n",
       "\n",
       "            Unassigned_MappingQuality  Unassigned_Chimera  \\\n",
       "ERX1518397                          0                   0   \n",
       "ERX1518398                          0                   0   \n",
       "ERX1518399                          0                   0   \n",
       "\n",
       "            Unassigned_FragmentLength  Unassigned_Duplicate  ...  r_written  \\\n",
       "ERX1518397                         34                     0  ...    8929982   \n",
       "ERX1518398                          8                     0  ...    5489885   \n",
       "ERX1518399                          6                     0  ...    7366354   \n",
       "\n",
       "            bp_processed  quality_trimmed  bp_written  percent_trimmed  \\\n",
       "ERX1518397     607238776          3896544   545607801        10.149381   \n",
       "ERX1518398     373312180          2954939   301318297        19.285169   \n",
       "ERX1518399     552476550          9876077   515391384         6.712532   \n",
       "\n",
       "            pe_sense  pe_antisense  failed  se_sense  se_antisense  \n",
       "ERX1518397    0.0164        0.3196  0.6640       0.0           0.0  \n",
       "ERX1518398    0.0179        0.4421  0.5400       0.0           0.0  \n",
       "ERX1518399    0.0201        0.3200  0.6599       0.0           0.0  \n",
       "\n",
       "[3 rows x 54 columns]"
      ]
     },
     "execution_count": 21,
     "metadata": {},
     "output_type": "execute_result"
    }
   ],
   "source": [
    "DF_failed_mapping = DF_qc_stats[percent_alignment < min_pct_aligned]\n",
    "DF_failed_mapping"
   ]
  },
  {
   "cell_type": "code",
   "execution_count": 22,
   "metadata": {
    "ExecuteTime": {
     "end_time": "2021-06-15T23:23:22.815772Z",
     "start_time": "2021-06-15T23:23:22.811933Z"
    }
   },
   "outputs": [],
   "source": [
    "DF_metadata['passed_pct_reads_mapped'] = ~DF_metadata.index.isin(DF_failed_mapping.index)"
   ]
  },
  {
   "cell_type": "markdown",
   "metadata": {},
   "source": [
    "## Number of aligned reads"
   ]
  },
  {
   "cell_type": "markdown",
   "metadata": {},
   "source": [
    "<font size=\"4\">The following histogram shows how many reads map to coding sequences (i.e. mRNA). Too few aligned reads reduces the sensitivity of the resulting data.</font>"
   ]
  },
  {
   "cell_type": "code",
   "execution_count": 23,
   "metadata": {
    "ExecuteTime": {
     "end_time": "2021-06-15T23:23:23.490802Z",
     "start_time": "2021-06-15T23:23:23.485854Z"
    }
   },
   "outputs": [
    {
     "data": {
      "text/plain": [
       "500000.0"
      ]
     },
     "execution_count": 23,
     "metadata": {},
     "output_type": "execute_result"
    }
   ],
   "source": [
    "min_mrna_reads"
   ]
  },
  {
   "cell_type": "code",
   "execution_count": 24,
   "metadata": {
    "ExecuteTime": {
     "end_time": "2021-06-15T23:23:23.935592Z",
     "start_time": "2021-06-15T23:23:23.689050Z"
    }
   },
   "outputs": [
    {
     "data": {
      "text/plain": [
       "Text(0.5, 1.0, 'Number of reads mapped to CDS')"
      ]
     },
     "execution_count": 24,
     "metadata": {},
     "output_type": "execute_result"
    },
    {
     "data": {
      "image/png": "[encoded data removed]",
      "text/plain": [
       "<Figure size 432x288 with 1 Axes>"
      ]
     },
     "metadata": {},
     "output_type": "display_data"
    }
   ],
   "source": [
    "fig,ax = plt.subplots()\n",
    "ax.hist(DF_qc_stats['Assigned']/1e6,bins=50,alpha=0.8)\n",
    "ymin,ymax = ax.get_ylim()\n",
    "ax.vlines(min_mrna_reads/1e6,ymin,ymax,color='r')\n",
    "ax.set_ylim((ymin,ymax))\n",
    "ax.set_xlabel('# Reads (M)',fontsize=14)\n",
    "ax.set_ylabel('# Samples',fontsize=14)\n",
    "ax.set_title('Number of reads mapped to CDS',fontsize=16)"
   ]
  },
  {
   "cell_type": "markdown",
   "metadata": {},
   "source": [
    "<font size=\"4\">Identify samples with poor read depth:</font>"
   ]
  },
  {
   "cell_type": "code",
   "execution_count": 25,
   "metadata": {
    "ExecuteTime": {
     "end_time": "2021-06-15T23:23:24.184867Z",
     "start_time": "2021-06-15T23:23:24.161042Z"
    }
   },
   "outputs": [
    {
     "data": {
      "text/html": [
       "<div>\n",
       "<style scoped>\n",
       "    .dataframe tbody tr th:only-of-type {\n",
       "        vertical-align: middle;\n",
       "    }\n",
       "\n",
       "    .dataframe tbody tr th {\n",
       "        vertical-align: top;\n",
       "    }\n",
       "\n",
       "    .dataframe thead th {\n",
       "        text-align: right;\n",
       "    }\n",
       "</style>\n",
       "<table border=\"1\" class=\"dataframe\">\n",
       "  <thead>\n",
       "    <tr style=\"text-align: right;\">\n",
       "      <th></th>\n",
       "      <th>Total</th>\n",
       "      <th>Assigned</th>\n",
       "      <th>Unassigned_rRNA</th>\n",
       "      <th>Unassigned_Unmapped</th>\n",
       "      <th>Unassigned_Read_Type</th>\n",
       "      <th>Unassigned_Singleton</th>\n",
       "      <th>Unassigned_MappingQuality</th>\n",
       "      <th>Unassigned_Chimera</th>\n",
       "      <th>Unassigned_FragmentLength</th>\n",
       "      <th>Unassigned_Duplicate</th>\n",
       "      <th>...</th>\n",
       "      <th>r_written</th>\n",
       "      <th>bp_processed</th>\n",
       "      <th>quality_trimmed</th>\n",
       "      <th>bp_written</th>\n",
       "      <th>percent_trimmed</th>\n",
       "      <th>pe_sense</th>\n",
       "      <th>pe_antisense</th>\n",
       "      <th>failed</th>\n",
       "      <th>se_sense</th>\n",
       "      <th>se_antisense</th>\n",
       "    </tr>\n",
       "  </thead>\n",
       "  <tbody>\n",
       "    <tr>\n",
       "      <th>ERX1518398</th>\n",
       "      <td>4886827</td>\n",
       "      <td>3864</td>\n",
       "      <td>14010</td>\n",
       "      <td>4866322</td>\n",
       "      <td>0</td>\n",
       "      <td>0</td>\n",
       "      <td>0</td>\n",
       "      <td>0</td>\n",
       "      <td>8</td>\n",
       "      <td>0</td>\n",
       "      <td>...</td>\n",
       "      <td>5489885</td>\n",
       "      <td>373312180</td>\n",
       "      <td>2954939</td>\n",
       "      <td>301318297</td>\n",
       "      <td>19.285169</td>\n",
       "      <td>0.0179</td>\n",
       "      <td>0.4421</td>\n",
       "      <td>0.5400</td>\n",
       "      <td>0.0</td>\n",
       "      <td>0.0</td>\n",
       "    </tr>\n",
       "    <tr>\n",
       "      <th>ERX1518399</th>\n",
       "      <td>6932975</td>\n",
       "      <td>8941</td>\n",
       "      <td>20802</td>\n",
       "      <td>6899499</td>\n",
       "      <td>0</td>\n",
       "      <td>0</td>\n",
       "      <td>0</td>\n",
       "      <td>0</td>\n",
       "      <td>6</td>\n",
       "      <td>0</td>\n",
       "      <td>...</td>\n",
       "      <td>7366354</td>\n",
       "      <td>552476550</td>\n",
       "      <td>9876077</td>\n",
       "      <td>515391384</td>\n",
       "      <td>6.712532</td>\n",
       "      <td>0.0201</td>\n",
       "      <td>0.3200</td>\n",
       "      <td>0.6599</td>\n",
       "      <td>0.0</td>\n",
       "      <td>0.0</td>\n",
       "    </tr>\n",
       "    <tr>\n",
       "      <th>ERX1518397</th>\n",
       "      <td>8365915</td>\n",
       "      <td>10283</td>\n",
       "      <td>28077</td>\n",
       "      <td>8322765</td>\n",
       "      <td>0</td>\n",
       "      <td>0</td>\n",
       "      <td>0</td>\n",
       "      <td>0</td>\n",
       "      <td>34</td>\n",
       "      <td>0</td>\n",
       "      <td>...</td>\n",
       "      <td>8929982</td>\n",
       "      <td>607238776</td>\n",
       "      <td>3896544</td>\n",
       "      <td>545607801</td>\n",
       "      <td>10.149381</td>\n",
       "      <td>0.0164</td>\n",
       "      <td>0.3196</td>\n",
       "      <td>0.6640</td>\n",
       "      <td>0.0</td>\n",
       "      <td>0.0</td>\n",
       "    </tr>\n",
       "  </tbody>\n",
       "</table>\n",
       "<p>3 rows × 54 columns</p>\n",
       "</div>"
      ],
      "text/plain": [
       "              Total  Assigned  Unassigned_rRNA  Unassigned_Unmapped  \\\n",
       "ERX1518398  4886827      3864            14010              4866322   \n",
       "ERX1518399  6932975      8941            20802              6899499   \n",
       "ERX1518397  8365915     10283            28077              8322765   \n",
       "\n",
       "            Unassigned_Read_Type  Unassigned_Singleton  \\\n",
       "ERX1518398                     0                     0   \n",
       "ERX1518399                     0                     0   \n",
       "ERX1518397                     0                     0   \n",
       "\n",
       "            Unassigned_MappingQuality  Unassigned_Chimera  \\\n",
       "ERX1518398                          0                   0   \n",
       "ERX1518399                          0                   0   \n",
       "ERX1518397                          0                   0   \n",
       "\n",
       "            Unassigned_FragmentLength  Unassigned_Duplicate  ...  r_written  \\\n",
       "ERX1518398                          8                     0  ...    5489885   \n",
       "ERX1518399                          6                     0  ...    7366354   \n",
       "ERX1518397                         34                     0  ...    8929982   \n",
       "\n",
       "            bp_processed  quality_trimmed  bp_written  percent_trimmed  \\\n",
       "ERX1518398     373312180          2954939   301318297        19.285169   \n",
       "ERX1518399     552476550          9876077   515391384         6.712532   \n",
       "ERX1518397     607238776          3896544   545607801        10.149381   \n",
       "\n",
       "            pe_sense  pe_antisense  failed  se_sense  se_antisense  \n",
       "ERX1518398    0.0179        0.4421  0.5400       0.0           0.0  \n",
       "ERX1518399    0.0201        0.3200  0.6599       0.0           0.0  \n",
       "ERX1518397    0.0164        0.3196  0.6640       0.0           0.0  \n",
       "\n",
       "[3 rows x 54 columns]"
      ]
     },
     "execution_count": 25,
     "metadata": {},
     "output_type": "execute_result"
    }
   ],
   "source": [
    "DF_failed_mrna = DF_qc_stats[DF_qc_stats['Assigned'] < min_mrna_reads].sort_values('Assigned')\n",
    "DF_failed_mrna"
   ]
  },
  {
   "cell_type": "markdown",
   "metadata": {},
   "source": [
    "<font size=\"4\">Mark samples as failed.</font>"
   ]
  },
  {
   "cell_type": "code",
   "execution_count": 26,
   "metadata": {
    "ExecuteTime": {
     "end_time": "2021-06-15T23:23:25.087482Z",
     "start_time": "2021-06-15T23:23:25.083119Z"
    }
   },
   "outputs": [],
   "source": [
    "DF_metadata['passed_reads_mapped_to_CDS'] = ~DF_metadata.index.isin(DF_failed_mrna.index)"
   ]
  },
  {
   "cell_type": "markdown",
   "metadata": {},
   "source": [
    "# Examine Global Correlations"
   ]
  },
  {
   "cell_type": "markdown",
   "metadata": {},
   "source": [
    "## Hierarchical Clustering"
   ]
  },
  {
   "cell_type": "markdown",
   "metadata": {},
   "source": [
    "<font size=4> A clustermap is a great way to visualize the global correlations between one sample and all others. The following code uses hierarchical clustering to identify specific clusters in the clustermap <font size=4>\n",
    "    \n",
    "<font size=4> To increase the number of clusters, decrease the value of `thresh`. To decrease the number of clusters, increase the value of `thresh` <font size=4>"
   ]
  },
  {
   "cell_type": "code",
   "execution_count": 27,
   "metadata": {
    "ExecuteTime": {
     "end_time": "2021-06-15T23:23:26.681722Z",
     "start_time": "2021-06-15T23:23:26.613028Z"
    }
   },
   "outputs": [
    {
     "name": "stdout",
     "output_type": "stream",
     "text": [
      "Number of cluster:  8\n"
     ]
    }
   ],
   "source": [
    "import scipy.cluster.hierarchy as sch\n",
    "import matplotlib.patches as patches\n",
    "# change this to get different number of clusters\n",
    "thresh = .3\n",
    "\n",
    "# retrieve clusters using fcluster \n",
    "corr = DF_log_tpm.corr()\n",
    "corr.fillna(0,inplace=True)\n",
    "dist = sch.distance.pdist(corr)\n",
    "link = sch.linkage(dist, method='complete')\n",
    "clst = pd.DataFrame(index=DF_log_tpm.columns)\n",
    "clst['cluster'] = sch.fcluster(link, thresh * dist.max(), 'distance')\n",
    "\n",
    "#get colors for each cluster\n",
    "cm = plt.cm.get_cmap('tab20')\n",
    "clr = dict(zip(clst.cluster.unique(), cm.colors))\n",
    "clst['color'] = clst.cluster.map(clr)\n",
    "\n",
    "print('Number of cluster: ', len(clr))"
   ]
  },
  {
   "cell_type": "markdown",
   "metadata": {},
   "source": [
    "<font size=\"4\">To view sample IDs in the clustermap, set `xticklabels` and `yticklabels` to `True`. You can increase the `size` variable to improve readability of sample IDs<font>"
   ]
  },
  {
   "cell_type": "code",
   "execution_count": 28,
   "metadata": {
    "ExecuteTime": {
     "end_time": "2021-06-15T23:23:28.203654Z",
     "start_time": "2021-06-15T23:23:27.445506Z"
    }
   },
   "outputs": [
    {
     "data": {
      "image/png": "[encoded data removed]",
      "text/plain": [
       "<Figure size 648x648 with 5 Axes>"
      ]
     },
     "metadata": {},
     "output_type": "display_data"
    }
   ],
   "source": [
    "size = 9\n",
    "\n",
    "legend_TN = [patches.Patch(color=c, label=l) for l,c in clr.items()]\n",
    "\n",
    "sns.set(rc={'figure.facecolor':'white'})\n",
    "g = sns.clustermap(DF_log_tpm.corr(), figsize=(size,size), \n",
    "                   row_linkage=link, col_linkage=link, col_colors=clst.color,\n",
    "                  yticklabels=False, xticklabels=False)\n",
    "\n",
    "l2=g.ax_heatmap.legend(loc='upper left', bbox_to_anchor=(1.01,0.85), handles=legend_TN,frameon=True)\n",
    "l2.set_title(title='Clusters',prop={'size':10})"
   ]
  },
  {
   "cell_type": "markdown",
   "metadata": {},
   "source": [
    "<font size=\"4\">Select clusters to remove.</font>"
   ]
  },
  {
   "cell_type": "code",
   "execution_count": 29,
   "metadata": {
    "ExecuteTime": {
     "end_time": "2021-06-15T23:23:29.250135Z",
     "start_time": "2021-06-15T23:23:29.245655Z"
    }
   },
   "outputs": [],
   "source": [
    "#indicate which clusters you want to remove\n",
    "remove_clst = [7,8]\n",
    "failed_global_corr = clst[clst.cluster.isin(remove_clst)].index"
   ]
  },
  {
   "cell_type": "code",
   "execution_count": 30,
   "metadata": {
    "ExecuteTime": {
     "end_time": "2021-06-15T23:23:29.630332Z",
     "start_time": "2021-06-15T23:23:29.626366Z"
    }
   },
   "outputs": [],
   "source": [
    "DF_metadata['passed_global_correlation'] = ~DF_metadata.index.isin(failed_global_corr)"
   ]
  },
  {
   "cell_type": "code",
   "execution_count": 31,
   "metadata": {
    "ExecuteTime": {
     "end_time": "2021-06-15T23:23:30.065717Z",
     "start_time": "2021-06-15T23:23:30.035731Z"
    }
   },
   "outputs": [
    {
     "data": {
      "text/html": [
       "<div>\n",
       "<style scoped>\n",
       "    .dataframe tbody tr th:only-of-type {\n",
       "        vertical-align: middle;\n",
       "    }\n",
       "\n",
       "    .dataframe tbody tr th {\n",
       "        vertical-align: top;\n",
       "    }\n",
       "\n",
       "    .dataframe thead th {\n",
       "        text-align: right;\n",
       "    }\n",
       "</style>\n",
       "<table border=\"1\" class=\"dataframe\">\n",
       "  <thead>\n",
       "    <tr style=\"text-align: right;\">\n",
       "      <th></th>\n",
       "      <th>ReleaseDate</th>\n",
       "      <th>TaxID</th>\n",
       "      <th>ScientificName</th>\n",
       "      <th>species_tax_id</th>\n",
       "      <th>class_tax_id</th>\n",
       "      <th>strain_tax_id</th>\n",
       "      <th>species</th>\n",
       "      <th>LibraryLayout</th>\n",
       "      <th>Platform</th>\n",
       "      <th>Model</th>\n",
       "      <th>...</th>\n",
       "      <th>pH</th>\n",
       "      <th>growth_phase</th>\n",
       "      <th>OD</th>\n",
       "      <th>additional_notes</th>\n",
       "      <th>R1</th>\n",
       "      <th>R2</th>\n",
       "      <th>passed_fastqc</th>\n",
       "      <th>passed_pct_reads_mapped</th>\n",
       "      <th>passed_reads_mapped_to_CDS</th>\n",
       "      <th>passed_global_correlation</th>\n",
       "    </tr>\n",
       "  </thead>\n",
       "  <tbody>\n",
       "    <tr>\n",
       "      <th>ERX1518397</th>\n",
       "      <td>2016-07-14 11:49:35</td>\n",
       "      <td>330779</td>\n",
       "      <td>Sulfolobus acidocaldarius DSM 639</td>\n",
       "      <td>2285</td>\n",
       "      <td>183924</td>\n",
       "      <td>330779</td>\n",
       "      <td>Sulfolobus acidocaldarius</td>\n",
       "      <td>PAIRED</td>\n",
       "      <td>ILLUMINA</td>\n",
       "      <td>NextSeq 500</td>\n",
       "      <td>...</td>\n",
       "      <td>NaN</td>\n",
       "      <td>NaN</td>\n",
       "      <td>NaN</td>\n",
       "      <td>NaN</td>\n",
       "      <td>NaN</td>\n",
       "      <td>NaN</td>\n",
       "      <td>True</td>\n",
       "      <td>False</td>\n",
       "      <td>False</td>\n",
       "      <td>False</td>\n",
       "    </tr>\n",
       "    <tr>\n",
       "      <th>ERX1518398</th>\n",
       "      <td>2016-07-14 11:49:35</td>\n",
       "      <td>330779</td>\n",
       "      <td>Sulfolobus acidocaldarius DSM 639</td>\n",
       "      <td>2285</td>\n",
       "      <td>183924</td>\n",
       "      <td>330779</td>\n",
       "      <td>Sulfolobus acidocaldarius</td>\n",
       "      <td>PAIRED</td>\n",
       "      <td>ILLUMINA</td>\n",
       "      <td>NextSeq 500</td>\n",
       "      <td>...</td>\n",
       "      <td>NaN</td>\n",
       "      <td>NaN</td>\n",
       "      <td>NaN</td>\n",
       "      <td>NaN</td>\n",
       "      <td>NaN</td>\n",
       "      <td>NaN</td>\n",
       "      <td>False</td>\n",
       "      <td>False</td>\n",
       "      <td>False</td>\n",
       "      <td>False</td>\n",
       "    </tr>\n",
       "    <tr>\n",
       "      <th>ERX1518399</th>\n",
       "      <td>2016-07-14 11:49:35</td>\n",
       "      <td>330779</td>\n",
       "      <td>Sulfolobus acidocaldarius DSM 639</td>\n",
       "      <td>2285</td>\n",
       "      <td>183924</td>\n",
       "      <td>330779</td>\n",
       "      <td>Sulfolobus acidocaldarius</td>\n",
       "      <td>PAIRED</td>\n",
       "      <td>ILLUMINA</td>\n",
       "      <td>NextSeq 500</td>\n",
       "      <td>...</td>\n",
       "      <td>NaN</td>\n",
       "      <td>NaN</td>\n",
       "      <td>NaN</td>\n",
       "      <td>NaN</td>\n",
       "      <td>NaN</td>\n",
       "      <td>NaN</td>\n",
       "      <td>False</td>\n",
       "      <td>False</td>\n",
       "      <td>False</td>\n",
       "      <td>False</td>\n",
       "    </tr>\n",
       "    <tr>\n",
       "      <th>ERX3018360</th>\n",
       "      <td>2019-01-24 13:14:25</td>\n",
       "      <td>330779</td>\n",
       "      <td>Sulfolobus acidocaldarius DSM 639</td>\n",
       "      <td>2285</td>\n",
       "      <td>183924</td>\n",
       "      <td>330779</td>\n",
       "      <td>Sulfolobus acidocaldarius</td>\n",
       "      <td>PAIRED</td>\n",
       "      <td>ILLUMINA</td>\n",
       "      <td>Illumina HiSeq 2500</td>\n",
       "      <td>...</td>\n",
       "      <td>NaN</td>\n",
       "      <td>NaN</td>\n",
       "      <td>NaN</td>\n",
       "      <td>NaN</td>\n",
       "      <td>NaN</td>\n",
       "      <td>NaN</td>\n",
       "      <td>True</td>\n",
       "      <td>True</td>\n",
       "      <td>True</td>\n",
       "      <td>True</td>\n",
       "    </tr>\n",
       "    <tr>\n",
       "      <th>ERX3018361</th>\n",
       "      <td>2019-01-24 13:14:25</td>\n",
       "      <td>330779</td>\n",
       "      <td>Sulfolobus acidocaldarius DSM 639</td>\n",
       "      <td>2285</td>\n",
       "      <td>183924</td>\n",
       "      <td>330779</td>\n",
       "      <td>Sulfolobus acidocaldarius</td>\n",
       "      <td>PAIRED</td>\n",
       "      <td>ILLUMINA</td>\n",
       "      <td>Illumina HiSeq 2500</td>\n",
       "      <td>...</td>\n",
       "      <td>NaN</td>\n",
       "      <td>NaN</td>\n",
       "      <td>NaN</td>\n",
       "      <td>NaN</td>\n",
       "      <td>NaN</td>\n",
       "      <td>NaN</td>\n",
       "      <td>True</td>\n",
       "      <td>True</td>\n",
       "      <td>True</td>\n",
       "      <td>True</td>\n",
       "    </tr>\n",
       "  </tbody>\n",
       "</table>\n",
       "<p>5 rows × 52 columns</p>\n",
       "</div>"
      ],
      "text/plain": [
       "                    ReleaseDate   TaxID                     ScientificName  \\\n",
       "ERX1518397  2016-07-14 11:49:35  330779  Sulfolobus acidocaldarius DSM 639   \n",
       "ERX1518398  2016-07-14 11:49:35  330779  Sulfolobus acidocaldarius DSM 639   \n",
       "ERX1518399  2016-07-14 11:49:35  330779  Sulfolobus acidocaldarius DSM 639   \n",
       "ERX3018360  2019-01-24 13:14:25  330779  Sulfolobus acidocaldarius DSM 639   \n",
       "ERX3018361  2019-01-24 13:14:25  330779  Sulfolobus acidocaldarius DSM 639   \n",
       "\n",
       "            species_tax_id  class_tax_id  strain_tax_id  \\\n",
       "ERX1518397            2285        183924         330779   \n",
       "ERX1518398            2285        183924         330779   \n",
       "ERX1518399            2285        183924         330779   \n",
       "ERX3018360            2285        183924         330779   \n",
       "ERX3018361            2285        183924         330779   \n",
       "\n",
       "                              species LibraryLayout  Platform  \\\n",
       "ERX1518397  Sulfolobus acidocaldarius        PAIRED  ILLUMINA   \n",
       "ERX1518398  Sulfolobus acidocaldarius        PAIRED  ILLUMINA   \n",
       "ERX1518399  Sulfolobus acidocaldarius        PAIRED  ILLUMINA   \n",
       "ERX3018360  Sulfolobus acidocaldarius        PAIRED  ILLUMINA   \n",
       "ERX3018361  Sulfolobus acidocaldarius        PAIRED  ILLUMINA   \n",
       "\n",
       "                          Model  ...  pH growth_phase  OD  additional_notes  \\\n",
       "ERX1518397          NextSeq 500  ... NaN          NaN NaN               NaN   \n",
       "ERX1518398          NextSeq 500  ... NaN          NaN NaN               NaN   \n",
       "ERX1518399          NextSeq 500  ... NaN          NaN NaN               NaN   \n",
       "ERX3018360  Illumina HiSeq 2500  ... NaN          NaN NaN               NaN   \n",
       "ERX3018361  Illumina HiSeq 2500  ... NaN          NaN NaN               NaN   \n",
       "\n",
       "            R1  R2 passed_fastqc passed_pct_reads_mapped  \\\n",
       "ERX1518397 NaN NaN          True                   False   \n",
       "ERX1518398 NaN NaN         False                   False   \n",
       "ERX1518399 NaN NaN         False                   False   \n",
       "ERX3018360 NaN NaN          True                    True   \n",
       "ERX3018361 NaN NaN          True                    True   \n",
       "\n",
       "           passed_reads_mapped_to_CDS passed_global_correlation  \n",
       "ERX1518397                      False                     False  \n",
       "ERX1518398                      False                     False  \n",
       "ERX1518399                      False                     False  \n",
       "ERX3018360                       True                      True  \n",
       "ERX3018361                       True                      True  \n",
       "\n",
       "[5 rows x 52 columns]"
      ]
     },
     "execution_count": 31,
     "metadata": {},
     "output_type": "execute_result"
    }
   ],
   "source": [
    "DF_metadata.head()"
   ]
  },
  {
   "cell_type": "markdown",
   "metadata": {},
   "source": [
    "# Remove failed samples"
   ]
  },
  {
   "cell_type": "code",
   "execution_count": 32,
   "metadata": {
    "ExecuteTime": {
     "end_time": "2021-06-15T23:23:31.160687Z",
     "start_time": "2021-06-15T23:23:31.157740Z"
    }
   },
   "outputs": [],
   "source": [
    "qc_columns = ['passed_fastqc',\n",
    "              'passed_reads_mapped_to_CDS',\n",
    "              'passed_pct_reads_mapped',\n",
    "              'passed_global_correlation']"
   ]
  },
  {
   "cell_type": "code",
   "execution_count": 33,
   "metadata": {
    "ExecuteTime": {
     "end_time": "2021-06-15T23:23:31.794549Z",
     "start_time": "2021-06-15T23:23:31.788629Z"
    }
   },
   "outputs": [],
   "source": [
    "pass_qc = DF_metadata[qc_columns].all(axis=1)\n",
    "DF_metadata_passed = DF_metadata[pass_qc]"
   ]
  },
  {
   "cell_type": "code",
   "execution_count": 35,
   "metadata": {
    "ExecuteTime": {
     "end_time": "2021-06-15T23:24:01.548370Z",
     "start_time": "2021-06-15T23:24:01.422325Z"
    }
   },
   "outputs": [
    {
     "data": {
      "image/png": "[encoded data removed]",
      "text/plain": [
       "<Figure size 432x288 with 1 Axes>"
      ]
     },
     "metadata": {},
     "output_type": "display_data"
    }
   ],
   "source": [
    "_,_,pcts = plt.pie(pass_qc.value_counts().sort_values(),\n",
    "        labels = ['Failed','Passed'],\n",
    "        colors=['tab:red','tab:blue'],\n",
    "        autopct='%.0f%%',textprops={'size':16});\n",
    "\n",
    "# Colors percents white\n",
    "for pct in pcts:\n",
    "    pct.set_color('white')\n",
    "\n",
    "#plt.savefig('../data/figures/pie.svg')"
   ]
  },
  {
   "cell_type": "code",
   "execution_count": 37,
   "metadata": {
    "ExecuteTime": {
     "end_time": "2021-06-15T23:24:57.136856Z",
     "start_time": "2021-06-15T23:24:57.132374Z"
    }
   },
   "outputs": [
    {
     "data": {
      "text/plain": [
       "(117, 52)"
      ]
     },
     "execution_count": 37,
     "metadata": {},
     "output_type": "execute_result"
    }
   ],
   "source": [
    "DF_metadata.shape"
   ]
  },
  {
   "cell_type": "markdown",
   "metadata": {},
   "source": [
    "# Metadata Curation"
   ]
  },
  {
   "cell_type": "markdown",
   "metadata": {},
   "source": [
    "<font size=4>The following sections can only be run after metadata curation is complete. To enable metadata curation, the code in this section sorts data by BioProject. </font>"
   ]
  },
  {
   "cell_type": "markdown",
   "metadata": {},
   "source": [
    "## BioProject counts of passing metadata"
   ]
  },
  {
   "cell_type": "code",
   "execution_count": 35,
   "metadata": {},
   "outputs": [
    {
     "data": {
      "text/plain": [
       "PRJNA453776    18\n",
       "PRJNA439217    18\n",
       "PRJNA526225     8\n",
       "PRJNA531435     6\n",
       "PRJEB30507      4\n",
       "PRJNA422245     4\n",
       "PRJNA388657     2\n",
       "PRJNA403207     1\n",
       "PRJNA403199     1\n",
       "PRJNA403196     1\n",
       "PRJNA403230     1\n",
       "PRJNA403219     1\n",
       "PRJNA403200     1\n",
       "PRJNA403227     1\n",
       "PRJNA373915     1\n",
       "PRJNA403181     1\n",
       "PRJNA403187     1\n",
       "PRJNA403208     1\n",
       "PRJNA403235     1\n",
       "PRJNA403202     1\n",
       "PRJNA403222     1\n",
       "PRJNA403213     1\n",
       "PRJNA403223     1\n",
       "PRJNA403188     1\n",
       "PRJNA403209     1\n",
       "PRJNA403228     1\n",
       "PRJNA403186     1\n",
       "PRJNA403218     1\n",
       "PRJNA403225     1\n",
       "PRJNA403216     1\n",
       "PRJNA403231     1\n",
       "PRJNA213193     1\n",
       "PRJNA403197     1\n",
       "PRJNA403236     1\n",
       "PRJNA403229     1\n",
       "PRJNA403205     1\n",
       "PRJNA403201     1\n",
       "PRJNA403180     1\n",
       "PRJNA403220     1\n",
       "PRJNA403198     1\n",
       "PRJNA403221     1\n",
       "PRJNA403211     1\n",
       "PRJNA403206     1\n",
       "PRJNA403189     1\n",
       "PRJNA403204     1\n",
       "PRJNA403203     1\n",
       "PRJNA403195     1\n",
       "PRJNA403190     1\n",
       "PRJNA403217     1\n",
       "PRJNA403214     1\n",
       "PRJNA403182     1\n",
       "PRJNA403224     1\n",
       "PRJNA403191     1\n",
       "PRJNA403192     1\n",
       "PRJNA403183     1\n",
       "PRJNA403226     1\n",
       "PRJNA403215     1\n",
       "Name: BioProject, dtype: int64"
      ]
     },
     "execution_count": 35,
     "metadata": {},
     "output_type": "execute_result"
    }
   ],
   "source": [
    "DF_metadata_passed.BioProject.value_counts().sort_values(ascending=False)"
   ]
  },
  {
   "cell_type": "markdown",
   "metadata": {},
   "source": [
    "## BioProject counts of all metadata"
   ]
  },
  {
   "cell_type": "code",
   "execution_count": 36,
   "metadata": {},
   "outputs": [
    {
     "data": {
      "text/plain": [
       "PRJNA453776    18\n",
       "PRJNA439217    18\n",
       "PRJNA526225     8\n",
       "PRJNA531435     6\n",
       "PRJNA373915     5\n",
       "PRJEB30507      4\n",
       "PRJNA422245     4\n",
       "PRJEB14292      3\n",
       "PRJNA388657     2\n",
       "PRJNA403230     1\n",
       "PRJNA403231     1\n",
       "PRJNA403208     1\n",
       "PRJNA403199     1\n",
       "PRJNA403196     1\n",
       "PRJNA403227     1\n",
       "PRJNA403219     1\n",
       "PRJNA403207     1\n",
       "PRJNA403235     1\n",
       "PRJNA403187     1\n",
       "PRJNA403181     1\n",
       "PRJNA403209     1\n",
       "PRJNA403182     1\n",
       "PRJNA403223     1\n",
       "PRJNA403188     1\n",
       "PRJNA403201     1\n",
       "PRJNA403228     1\n",
       "PRJNA403186     1\n",
       "PRJNA403218     1\n",
       "PRJNA403225     1\n",
       "PRJNA403216     1\n",
       "PRJNA403197     1\n",
       "PRJNA403202     1\n",
       "PRJNA403222     1\n",
       "PRJNA403236     1\n",
       "PRJNA403213     1\n",
       "PRJNA403220     1\n",
       "PRJNA403203     1\n",
       "PRJNA403195     1\n",
       "PRJNA403183     1\n",
       "PRJNA403204     1\n",
       "PRJNA403189     1\n",
       "PRJNA403206     1\n",
       "PRJNA403211     1\n",
       "PRJNA403221     1\n",
       "PRJNA403198     1\n",
       "PRJNA403217     1\n",
       "PRJNA403191     1\n",
       "PRJNA403214     1\n",
       "PRJNA403224     1\n",
       "PRJNA403192     1\n",
       "PRJNA403180     1\n",
       "PRJNA403226     1\n",
       "PRJNA403190     1\n",
       "PRJNA403229     1\n",
       "PRJNA213193     1\n",
       "PRJNA403205     1\n",
       "PRJNA403200     1\n",
       "PRJNA403215     1\n",
       "Name: BioProject, dtype: int64"
      ]
     },
     "execution_count": 36,
     "metadata": {},
     "output_type": "execute_result"
    }
   ],
   "source": [
    "DF_metadata.BioProject.value_counts().sort_values(ascending=False)"
   ]
  },
  {
   "cell_type": "markdown",
   "metadata": {},
   "source": [
    "# Correlations between replicates"
   ]
  },
  {
   "cell_type": "markdown",
   "metadata": {},
   "source": [
    "<font size=4> First, get a full sample name </font>"
   ]
  },
  {
   "cell_type": "code",
   "execution_count": 37,
   "metadata": {},
   "outputs": [],
   "source": [
    "# Turn off pesky warning\n",
    "pd.set_option('mode.chained_assignment', None)"
   ]
  },
  {
   "cell_type": "code",
   "execution_count": 38,
   "metadata": {},
   "outputs": [],
   "source": [
    "DF_metadata_passed['full_name'] = DF_metadata_passed.loc[:,'project'].str.cat(DF_metadata_passed.loc[:,'condition'],sep=':')"
   ]
  },
  {
   "cell_type": "markdown",
   "metadata": {},
   "source": [
    "## Compute Pearson R Score"
   ]
  },
  {
   "cell_type": "markdown",
   "metadata": {},
   "source": [
    "<font size=\"4\">Once you have updated your metadata files with the sample information, we can investigate correlations between biological replicates. We require biological replicates to have a Pearson R correlation above 0.95. For samples with more than 2 replicates, the replicates must have R >= 0.95 with at least one other replicate or it will be dropped. </font>"
   ]
  },
  {
   "cell_type": "code",
   "execution_count": 39,
   "metadata": {},
   "outputs": [],
   "source": [
    "from tqdm.notebook import tqdm\n",
    "import itertools\n",
    "from scipy import stats\n",
    "import numpy as np"
   ]
  },
  {
   "cell_type": "code",
   "execution_count": 40,
   "metadata": {},
   "outputs": [
    {
     "data": {
      "application/vnd.jupyter.widget-view+json": {
       "model_id": "9aff8ea6e5e64483be0252f0f97db208",
       "version_major": 2,
       "version_minor": 0
      },
      "text/plain": [
       "  0%|          | 0/5995.0 [00:00<?, ?it/s]"
      ]
     },
     "metadata": {},
     "output_type": "display_data"
    }
   ],
   "source": [
    "rep_corrs = {}\n",
    "rand_corrs = {}\n",
    "\n",
    "num_comparisons = len(DF_metadata_passed)*(len(DF_metadata_passed)-1)/2\n",
    "for exp1,exp2 in tqdm(itertools.combinations(DF_metadata_passed.index,2),total=num_comparisons):\n",
    "    if DF_metadata_passed.loc[exp1,'full_name'] == DF_metadata_passed.loc[exp2,'full_name']:\n",
    "        rep_corrs[(exp1,exp2)] = stats.pearsonr(DF_log_tpm[exp1],DF_log_tpm[exp2])[0]\n",
    "    else:\n",
    "        rand_corrs[(exp1,exp2)] = stats.pearsonr(DF_log_tpm[exp1],DF_log_tpm[exp2])[0]"
   ]
  },
  {
   "cell_type": "code",
   "execution_count": 41,
   "metadata": {},
   "outputs": [],
   "source": [
    "sns.set_style('ticks')"
   ]
  },
  {
   "cell_type": "code",
   "execution_count": 42,
   "metadata": {},
   "outputs": [
    {
     "name": "stdout",
     "output_type": "stream",
     "text": [
      "Median Pearson R between replicates: 0.98\n"
     ]
    },
    {
     "data": {
      "image/png": "[encoded data removed]",
      "text/plain": [
       "<Figure size 360x360 with 2 Axes>"
      ]
     },
     "metadata": {},
     "output_type": "display_data"
    }
   ],
   "source": [
    "fig,ax = plt.subplots(figsize=(5,5))\n",
    "ax2 = ax.twinx()\n",
    "ax2.hist(rep_corrs.values(),bins=50,range=(0.2,1),alpha=0.8,color='green',linewidth=0)\n",
    "ax.hist(rand_corrs.values(),bins=50,range=(0.2,1),alpha=0.8,color='blue',linewidth=0)\n",
    "ax.set_title('Pearson R correlation between experiments',fontsize=14)\n",
    "ax.set_xlabel('Pearson R correlation',fontsize=14)\n",
    "ax.set_ylabel('Different Conditions',fontsize=14)\n",
    "ax2.set_ylabel('Known Replicates',fontsize=14)\n",
    "\n",
    "med_corr = np.median([v for k,v in rep_corrs.items()])\n",
    "print('Median Pearson R between replicates: {:.2f}'.format(med_corr))"
   ]
  },
  {
   "cell_type": "code",
   "execution_count": 43,
   "metadata": {},
   "outputs": [],
   "source": [
    "#pearson r cutoff for replicates\n",
    "rcutoff = 0.95\n",
    "\n",
    "#for each sample get max correlation between replicates\n",
    "dissimilar = []\n",
    "for idx, grp in DF_metadata_passed.groupby('full_name'):\n",
    "    ident = np.identity(len(grp))\n",
    "    corrs = (DF_log_tpm[grp.index].corr() - ident).max()\n",
    "    dissimilar.extend(corrs[corrs<rcutoff].index)\n",
    "DF_metadata['passed_replicate_corr'] = ~DF_metadata.index.isin(dissimilar)\n",
    "DF_metadata_passed['passed_similar_replicates'] = ~DF_metadata_passed.index.isin(dissimilar)"
   ]
  },
  {
   "cell_type": "markdown",
   "metadata": {},
   "source": [
    "## Drop Samples with no replicates"
   ]
  },
  {
   "cell_type": "code",
   "execution_count": 44,
   "metadata": {},
   "outputs": [
    {
     "data": {
      "text/plain": [
       "Index(['75_3.5_log', 'nc_rna5', '65_1.6_stat', '65_3.5_log', 'nc_rna6',\n",
       "       'nc_rna8', 'nc_rna7'],\n",
       "      dtype='object')"
      ]
     },
     "execution_count": 44,
     "metadata": {},
     "output_type": "execute_result"
    }
   ],
   "source": [
    "cond_counts = DF_metadata_passed.condition.value_counts()\n",
    "drop_conds = cond_counts[cond_counts < 2].index\n",
    "drop_conds"
   ]
  },
  {
   "cell_type": "code",
   "execution_count": 45,
   "metadata": {},
   "outputs": [],
   "source": [
    "DF_metadata_passed['passed_number_replicates'] = ~DF_metadata_passed.condition.isin(drop_conds)"
   ]
  },
  {
   "cell_type": "code",
   "execution_count": 46,
   "metadata": {},
   "outputs": [],
   "source": [
    "DF_metadata_passed = DF_metadata_passed[DF_metadata_passed['passed_number_replicates']]"
   ]
  },
  {
   "cell_type": "markdown",
   "metadata": {},
   "source": [
    "# Remove failed samples"
   ]
  },
  {
   "cell_type": "code",
   "execution_count": 47,
   "metadata": {},
   "outputs": [],
   "source": [
    "qc_columns = ['passed_number_replicates','passed_similar_replicates']"
   ]
  },
  {
   "cell_type": "code",
   "execution_count": 48,
   "metadata": {},
   "outputs": [],
   "source": [
    "DF_metadata_final = DF_metadata_passed[DF_metadata_passed[qc_columns].all(axis=1)]"
   ]
  },
  {
   "cell_type": "code",
   "execution_count": 49,
   "metadata": {},
   "outputs": [],
   "source": [
    "# Remove Dup project (this is a duplicate of the FadR project)\n",
    "DF_metadata_final = DF_metadata_final.drop(index=['ERX3018360', 'ERX3018361', 'ERX3018362', 'ERX3018363'])"
   ]
  },
  {
   "cell_type": "code",
   "execution_count": 50,
   "metadata": {},
   "outputs": [
    {
     "data": {
      "text/plain": [
       "(95, 55)"
      ]
     },
     "execution_count": 50,
     "metadata": {},
     "output_type": "execute_result"
    }
   ],
   "source": [
    "DF_metadata_final.shape"
   ]
  },
  {
   "cell_type": "code",
   "execution_count": 51,
   "metadata": {},
   "outputs": [],
   "source": [
    "DF_log_tpm_final = DF_log_tpm[DF_metadata_final.index]"
   ]
  },
  {
   "cell_type": "code",
   "execution_count": 46,
   "metadata": {
    "ExecuteTime": {
     "end_time": "2021-06-15T23:29:32.496107Z",
     "start_time": "2021-06-15T23:29:32.489424Z"
    }
   },
   "outputs": [
    {
     "data": {
      "text/plain": [
       "Failed    22\n",
       "Passed    95\n",
       "dtype: int64"
      ]
     },
     "execution_count": 46,
     "metadata": {},
     "output_type": "execute_result"
    }
   ],
   "source": [
    "final_pie = {\n",
    "    'Passed': 95,\n",
    "    'Failed': 22\n",
    "}\n",
    "\n",
    "pd.Series(final_pie).sort_values()"
   ]
  },
  {
   "cell_type": "code",
   "execution_count": 48,
   "metadata": {
    "ExecuteTime": {
     "end_time": "2021-06-15T23:32:50.177370Z",
     "start_time": "2021-06-15T23:32:50.078759Z"
    }
   },
   "outputs": [
    {
     "data": {
      "image/png": "[encoded data removed]",
      "text/plain": [
       "<Figure size 432x288 with 1 Axes>"
      ]
     },
     "metadata": {},
     "output_type": "display_data"
    }
   ],
   "source": [
    "_,_,pcts = plt.pie(pd.Series(final_pie).sort_values(),\n",
    "        labels = ['Failed','Passed'],\n",
    "        colors=['tab:red','tab:blue'],\n",
    "        autopct='%.0f%%',textprops={'size':16});\n",
    "\n",
    "# Colors percents white\n",
    "for pct in pcts:\n",
    "    pct.set_color('white')\n",
    "\n",
    "plt.savefig('../figures/final_pie.svg')"
   ]
  },
  {
   "cell_type": "markdown",
   "metadata": {},
   "source": [
    "# Save final datasets"
   ]
  },
  {
   "cell_type": "code",
   "execution_count": 52,
   "metadata": {},
   "outputs": [],
   "source": [
    "DF_log_tpm_final.to_csv(os.path.join(data_dir,'log_tpm_qc.csv'))\n",
    "DF_metadata_final.to_csv(os.path.join(data_dir,'metadata_qc.csv'))"
   ]
  }
 ],
 "metadata": {
  "kernelspec": {
   "display_name": "Python 3",
   "language": "python",
   "name": "python3"
  },
  "language_info": {
   "codemirror_mode": {
    "name": "ipython",
    "version": 3
   },
   "file_extension": ".py",
   "mimetype": "text/x-python",
   "name": "python",
   "nbconvert_exporter": "python",
   "pygments_lexer": "ipython3",
   "version": "3.7.10"
  },
  "toc": {
   "base_numbering": 1,
   "nav_menu": {},
   "number_sections": true,
   "sideBar": true,
   "skip_h1_title": false,
   "title_cell": "Table of Contents",
   "title_sidebar": "Contents",
   "toc_cell": true,
   "toc_position": {},
   "toc_section_display": true,
   "toc_window_display": false
  }
 },
 "nbformat": 4,
 "nbformat_minor": 2
}
